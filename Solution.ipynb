{
 "cells": [
  {
   "cell_type": "markdown",
   "id": "6d870d58-5243-403c-bc9a-5e50b16359ff",
   "metadata": {},
   "source": [
    "# Solución Challenge Cargo Data Scientist LATAM Airlines\n",
    "### Autor: Ignacio Loayza Campos\n",
    "\n",
    "__Información de contacto:__\n",
    "> - Correo: ignacio.1505@gmail.com\n",
    "> - usr Github: @TattooeDeer\n",
    "\n",
    "\n",
    "Voy a comenzar con un EDA básico sobre los datos para ver problemas que puedan venir referentes a los tipos de datos, codificaciones, valores nulos, etc."
   ]
  },
  {
   "cell_type": "code",
   "execution_count": 56,
   "id": "bfd6d592-f4bf-42cf-a890-fafb7173c5da",
   "metadata": {},
   "outputs": [],
   "source": [
    "## Manejo de datos\n",
    "import pandas as pd\n",
    "import numpy as np\n",
    "\n",
    "## Visuales y graficos\n",
    "import matplotlib.pyplot as plt \n",
    "import seaborn as sn\n",
    "plt.rcParams['figure.figsize'] = (15,10)\n",
    "\n",
    "## Modelacion\n",
    "# Comencemos por ahora con algo light, solo un par de modelos con hipotesis distintas para ver que tan bien\n",
    "# se manejan con los atributos de la primera iteracion de ingenieria de atributos\n",
    "from sklearn.linear_model import LogisticRegression\n",
    "from sklearn.ensemble import RandomForestClassifier\n",
    "from sklearn.naive_bayes import BernoulliNB\n",
    "from sklearn.preprocessing import OneHotEncoder\n",
    "from sklearn.model_selection import train_test_split, GridSearchCV\n",
    "from sklearn.metrics import classification_report\n",
    "from sklearn.svm import SVC\n",
    "\n"
   ]
  },
  {
   "cell_type": "markdown",
   "id": "da8b0d3e-329d-4174-ab8b-1bc021e18143",
   "metadata": {},
   "source": [
    "# EDA"
   ]
  },
  {
   "cell_type": "code",
   "execution_count": null,
   "id": "d89f1615-eb00-4656-9ab3-97bcfb6c724d",
   "metadata": {},
   "outputs": [
    {
     "name": "stderr",
     "output_type": "stream",
     "text": [
      "/home/ignacio/anaconda3/lib/python3.8/site-packages/IPython/core/interactiveshell.py:3444: DtypeWarning: Columns (1,6) have mixed types.Specify dtype option on import or set low_memory=False.\n",
      "  exec(code_obj, self.user_global_ns, self.user_ns)\n"
     ]
    }
   ],
   "source": [
    "df = pd.read_csv('dataset_SCL.csv')"
   ]
  },
  {
   "cell_type": "markdown",
   "id": "0aa4742a-6792-4f15-8c76-dc9c4575df1e",
   "metadata": {},
   "source": [
    "Parece haber algunos problemas de formato con los valores en algunas columnas que hacen que pandas no pueda interpretar el tipo de dato correctamente"
   ]
  },
  {
   "cell_type": "code",
   "execution_count": null,
   "id": "3c7e92c1-aeb6-4d44-a083-dcfb3d36f5f3",
   "metadata": {},
   "outputs": [
    {
     "data": {
      "text/html": [
       "<div>\n",
       "<style scoped>\n",
       "    .dataframe tbody tr th:only-of-type {\n",
       "        vertical-align: middle;\n",
       "    }\n",
       "\n",
       "    .dataframe tbody tr th {\n",
       "        vertical-align: top;\n",
       "    }\n",
       "\n",
       "    .dataframe thead th {\n",
       "        text-align: right;\n",
       "    }\n",
       "</style>\n",
       "<table border=\"1\" class=\"dataframe\">\n",
       "  <thead>\n",
       "    <tr style=\"text-align: right;\">\n",
       "      <th></th>\n",
       "      <th>Fecha-I</th>\n",
       "      <th>Vlo-I</th>\n",
       "      <th>Ori-I</th>\n",
       "      <th>Des-I</th>\n",
       "      <th>Emp-I</th>\n",
       "      <th>Fecha-O</th>\n",
       "      <th>Vlo-O</th>\n",
       "      <th>Ori-O</th>\n",
       "      <th>Des-O</th>\n",
       "      <th>Emp-O</th>\n",
       "      <th>DIA</th>\n",
       "      <th>MES</th>\n",
       "      <th>AÑO</th>\n",
       "      <th>DIANOM</th>\n",
       "      <th>TIPOVUELO</th>\n",
       "      <th>OPERA</th>\n",
       "      <th>SIGLAORI</th>\n",
       "      <th>SIGLADES</th>\n",
       "    </tr>\n",
       "  </thead>\n",
       "  <tbody>\n",
       "    <tr>\n",
       "      <th>38120</th>\n",
       "      <td>2017-07-01 16:00:00</td>\n",
       "      <td>7813</td>\n",
       "      <td>SCEL</td>\n",
       "      <td>SABE</td>\n",
       "      <td>LAN</td>\n",
       "      <td>2017-07-01 16:09:00</td>\n",
       "      <td>7813</td>\n",
       "      <td>SCEL</td>\n",
       "      <td>SABE</td>\n",
       "      <td>DSM</td>\n",
       "      <td>1</td>\n",
       "      <td>7</td>\n",
       "      <td>2017</td>\n",
       "      <td>Sabado</td>\n",
       "      <td>I</td>\n",
       "      <td>Grupo LATAM</td>\n",
       "      <td>Santiago</td>\n",
       "      <td>Buenos Aires</td>\n",
       "    </tr>\n",
       "    <tr>\n",
       "      <th>21909</th>\n",
       "      <td>2017-04-16 22:15:00</td>\n",
       "      <td>1446</td>\n",
       "      <td>SCEL</td>\n",
       "      <td>SEGU</td>\n",
       "      <td>LAN</td>\n",
       "      <td>2017-04-16 22:22:00</td>\n",
       "      <td>1446</td>\n",
       "      <td>SCEL</td>\n",
       "      <td>SEGU</td>\n",
       "      <td>LNE</td>\n",
       "      <td>16</td>\n",
       "      <td>4</td>\n",
       "      <td>2017</td>\n",
       "      <td>Domingo</td>\n",
       "      <td>I</td>\n",
       "      <td>Grupo LATAM</td>\n",
       "      <td>Santiago</td>\n",
       "      <td>Guayaquil</td>\n",
       "    </tr>\n",
       "    <tr>\n",
       "      <th>63068</th>\n",
       "      <td>2017-12-26 08:45:00</td>\n",
       "      <td>1</td>\n",
       "      <td>SCEL</td>\n",
       "      <td>SCTE</td>\n",
       "      <td>SKU</td>\n",
       "      <td>2017-12-26 09:09:00</td>\n",
       "      <td>1</td>\n",
       "      <td>SCEL</td>\n",
       "      <td>SCTE</td>\n",
       "      <td>SKU</td>\n",
       "      <td>26</td>\n",
       "      <td>12</td>\n",
       "      <td>2017</td>\n",
       "      <td>Martes</td>\n",
       "      <td>N</td>\n",
       "      <td>Sky Airline</td>\n",
       "      <td>Santiago</td>\n",
       "      <td>Puerto Montt</td>\n",
       "    </tr>\n",
       "    <tr>\n",
       "      <th>67300</th>\n",
       "      <td>2017-12-01 00:30:00</td>\n",
       "      <td>892</td>\n",
       "      <td>SCEL</td>\n",
       "      <td>SLLP</td>\n",
       "      <td>LAN</td>\n",
       "      <td>2017-12-01 01:29:00</td>\n",
       "      <td>892.0</td>\n",
       "      <td>SCEL</td>\n",
       "      <td>SLLP</td>\n",
       "      <td>LAN</td>\n",
       "      <td>1</td>\n",
       "      <td>12</td>\n",
       "      <td>2017</td>\n",
       "      <td>Viernes</td>\n",
       "      <td>I</td>\n",
       "      <td>Grupo LATAM</td>\n",
       "      <td>Santiago</td>\n",
       "      <td>La Paz</td>\n",
       "    </tr>\n",
       "    <tr>\n",
       "      <th>33582</th>\n",
       "      <td>2017-07-02 09:05:00</td>\n",
       "      <td>9615</td>\n",
       "      <td>SCEL</td>\n",
       "      <td>SBGL</td>\n",
       "      <td>TAM</td>\n",
       "      <td>2017-07-02 09:45:00</td>\n",
       "      <td>9615</td>\n",
       "      <td>SCEL</td>\n",
       "      <td>SBGL</td>\n",
       "      <td>TAM</td>\n",
       "      <td>2</td>\n",
       "      <td>7</td>\n",
       "      <td>2017</td>\n",
       "      <td>Domingo</td>\n",
       "      <td>I</td>\n",
       "      <td>Grupo LATAM</td>\n",
       "      <td>Santiago</td>\n",
       "      <td>Rio de Janeiro</td>\n",
       "    </tr>\n",
       "    <tr>\n",
       "      <th>47395</th>\n",
       "      <td>2017-09-12 14:14:00</td>\n",
       "      <td>241</td>\n",
       "      <td>SCEL</td>\n",
       "      <td>SCVD</td>\n",
       "      <td>LAN</td>\n",
       "      <td>2017-09-12 14:11:00</td>\n",
       "      <td>241</td>\n",
       "      <td>SCEL</td>\n",
       "      <td>SCVD</td>\n",
       "      <td>LXP</td>\n",
       "      <td>12</td>\n",
       "      <td>9</td>\n",
       "      <td>2017</td>\n",
       "      <td>Martes</td>\n",
       "      <td>N</td>\n",
       "      <td>Grupo LATAM</td>\n",
       "      <td>Santiago</td>\n",
       "      <td>Valdivia</td>\n",
       "    </tr>\n",
       "    <tr>\n",
       "      <th>24447</th>\n",
       "      <td>2017-05-09 07:55:00</td>\n",
       "      <td>122</td>\n",
       "      <td>SCEL</td>\n",
       "      <td>SCFA</td>\n",
       "      <td>LAN</td>\n",
       "      <td>2017-05-09 07:56:00</td>\n",
       "      <td>122</td>\n",
       "      <td>SCEL</td>\n",
       "      <td>SCFA</td>\n",
       "      <td>LAN</td>\n",
       "      <td>9</td>\n",
       "      <td>5</td>\n",
       "      <td>2017</td>\n",
       "      <td>Martes</td>\n",
       "      <td>N</td>\n",
       "      <td>Grupo LATAM</td>\n",
       "      <td>Santiago</td>\n",
       "      <td>Antofagasta</td>\n",
       "    </tr>\n",
       "    <tr>\n",
       "      <th>35833</th>\n",
       "      <td>2017-07-04 09:14:00</td>\n",
       "      <td>233</td>\n",
       "      <td>SCEL</td>\n",
       "      <td>SCQP</td>\n",
       "      <td>LAN</td>\n",
       "      <td>2017-07-04 09:13:00</td>\n",
       "      <td>233</td>\n",
       "      <td>SCEL</td>\n",
       "      <td>SCQP</td>\n",
       "      <td>LXP</td>\n",
       "      <td>4</td>\n",
       "      <td>7</td>\n",
       "      <td>2017</td>\n",
       "      <td>Martes</td>\n",
       "      <td>N</td>\n",
       "      <td>Grupo LATAM</td>\n",
       "      <td>Santiago</td>\n",
       "      <td>Temuco</td>\n",
       "    </tr>\n",
       "    <tr>\n",
       "      <th>34557</th>\n",
       "      <td>2017-07-07 07:00:00</td>\n",
       "      <td>190</td>\n",
       "      <td>SCEL</td>\n",
       "      <td>SCAR</td>\n",
       "      <td>SKU</td>\n",
       "      <td>2017-07-07 07:02:00</td>\n",
       "      <td>190</td>\n",
       "      <td>SCEL</td>\n",
       "      <td>SCAR</td>\n",
       "      <td>SKU</td>\n",
       "      <td>7</td>\n",
       "      <td>7</td>\n",
       "      <td>2017</td>\n",
       "      <td>Viernes</td>\n",
       "      <td>N</td>\n",
       "      <td>Sky Airline</td>\n",
       "      <td>Santiago</td>\n",
       "      <td>Arica</td>\n",
       "    </tr>\n",
       "    <tr>\n",
       "      <th>11007</th>\n",
       "      <td>2017-02-27 13:30:00</td>\n",
       "      <td>752</td>\n",
       "      <td>SCEL</td>\n",
       "      <td>SBGR</td>\n",
       "      <td>LAN</td>\n",
       "      <td>2017-02-27 13:34:00</td>\n",
       "      <td>752</td>\n",
       "      <td>SCEL</td>\n",
       "      <td>SBGR</td>\n",
       "      <td>LAN</td>\n",
       "      <td>27</td>\n",
       "      <td>2</td>\n",
       "      <td>2017</td>\n",
       "      <td>Lunes</td>\n",
       "      <td>I</td>\n",
       "      <td>Grupo LATAM</td>\n",
       "      <td>Santiago</td>\n",
       "      <td>Sao Paulo</td>\n",
       "    </tr>\n",
       "  </tbody>\n",
       "</table>\n",
       "</div>"
      ],
      "text/plain": [
       "                   Fecha-I Vlo-I Ori-I Des-I Emp-I              Fecha-O  \\\n",
       "38120  2017-07-01 16:00:00  7813  SCEL  SABE   LAN  2017-07-01 16:09:00   \n",
       "21909  2017-04-16 22:15:00  1446  SCEL  SEGU   LAN  2017-04-16 22:22:00   \n",
       "63068  2017-12-26 08:45:00     1  SCEL  SCTE   SKU  2017-12-26 09:09:00   \n",
       "67300  2017-12-01 00:30:00   892  SCEL  SLLP   LAN  2017-12-01 01:29:00   \n",
       "33582  2017-07-02 09:05:00  9615  SCEL  SBGL   TAM  2017-07-02 09:45:00   \n",
       "47395  2017-09-12 14:14:00   241  SCEL  SCVD   LAN  2017-09-12 14:11:00   \n",
       "24447  2017-05-09 07:55:00   122  SCEL  SCFA   LAN  2017-05-09 07:56:00   \n",
       "35833  2017-07-04 09:14:00   233  SCEL  SCQP   LAN  2017-07-04 09:13:00   \n",
       "34557  2017-07-07 07:00:00   190  SCEL  SCAR   SKU  2017-07-07 07:02:00   \n",
       "11007  2017-02-27 13:30:00   752  SCEL  SBGR   LAN  2017-02-27 13:34:00   \n",
       "\n",
       "       Vlo-O Ori-O Des-O Emp-O  DIA  MES   AÑO   DIANOM TIPOVUELO  \\\n",
       "38120   7813  SCEL  SABE   DSM    1    7  2017   Sabado         I   \n",
       "21909   1446  SCEL  SEGU   LNE   16    4  2017  Domingo         I   \n",
       "63068      1  SCEL  SCTE   SKU   26   12  2017   Martes         N   \n",
       "67300  892.0  SCEL  SLLP   LAN    1   12  2017  Viernes         I   \n",
       "33582   9615  SCEL  SBGL   TAM    2    7  2017  Domingo         I   \n",
       "47395    241  SCEL  SCVD   LXP   12    9  2017   Martes         N   \n",
       "24447    122  SCEL  SCFA   LAN    9    5  2017   Martes         N   \n",
       "35833    233  SCEL  SCQP   LXP    4    7  2017   Martes         N   \n",
       "34557    190  SCEL  SCAR   SKU    7    7  2017  Viernes         N   \n",
       "11007    752  SCEL  SBGR   LAN   27    2  2017    Lunes         I   \n",
       "\n",
       "             OPERA  SIGLAORI        SIGLADES  \n",
       "38120  Grupo LATAM  Santiago    Buenos Aires  \n",
       "21909  Grupo LATAM  Santiago       Guayaquil  \n",
       "63068  Sky Airline  Santiago    Puerto Montt  \n",
       "67300  Grupo LATAM  Santiago          La Paz  \n",
       "33582  Grupo LATAM  Santiago  Rio de Janeiro  \n",
       "47395  Grupo LATAM  Santiago        Valdivia  \n",
       "24447  Grupo LATAM  Santiago     Antofagasta  \n",
       "35833  Grupo LATAM  Santiago          Temuco  \n",
       "34557  Sky Airline  Santiago           Arica  \n",
       "11007  Grupo LATAM  Santiago       Sao Paulo  "
      ]
     },
     "execution_count": 3,
     "metadata": {},
     "output_type": "execute_result"
    }
   ],
   "source": [
    "df.sample(10)"
   ]
  },
  {
   "cell_type": "code",
   "execution_count": null,
   "id": "66b26951-b2d1-4e2d-8ad4-2083a76cd8f7",
   "metadata": {},
   "outputs": [
    {
     "name": "stdout",
     "output_type": "stream",
     "text": [
      "<class 'pandas.core.frame.DataFrame'>\n",
      "RangeIndex: 68206 entries, 0 to 68205\n",
      "Data columns (total 18 columns):\n",
      " #   Column     Non-Null Count  Dtype \n",
      "---  ------     --------------  ----- \n",
      " 0   Fecha-I    68206 non-null  object\n",
      " 1   Vlo-I      68206 non-null  object\n",
      " 2   Ori-I      68206 non-null  object\n",
      " 3   Des-I      68206 non-null  object\n",
      " 4   Emp-I      68206 non-null  object\n",
      " 5   Fecha-O    68206 non-null  object\n",
      " 6   Vlo-O      68205 non-null  object\n",
      " 7   Ori-O      68206 non-null  object\n",
      " 8   Des-O      68206 non-null  object\n",
      " 9   Emp-O      68206 non-null  object\n",
      " 10  DIA        68206 non-null  int64 \n",
      " 11  MES        68206 non-null  int64 \n",
      " 12  AÑO        68206 non-null  int64 \n",
      " 13  DIANOM     68206 non-null  object\n",
      " 14  TIPOVUELO  68206 non-null  object\n",
      " 15  OPERA      68206 non-null  object\n",
      " 16  SIGLAORI   68206 non-null  object\n",
      " 17  SIGLADES   68206 non-null  object\n",
      "dtypes: int64(3), object(15)\n",
      "memory usage: 9.4+ MB\n"
     ]
    }
   ],
   "source": [
    "df.info()"
   ]
  },
  {
   "cell_type": "markdown",
   "id": "936a1ff8-716b-4903-b49f-da8232c1c37e",
   "metadata": {},
   "source": [
    "Según el contexto entregado, la mayoría de las columnas por las que pandas arrojó el warning corresponden a códigos, probablemente lo que ocurrió fue que vió tanto números como códigos alfanuméricos y no pudo coercionar todos los valores a int/float, puesto que esos códigos son variables categóricas voy a dejarlos como tipo de dato `object`.\n",
    "\n",
    "Las columnas `Fecha-O` y `Fecha-I` conviene tenerlas en un tipo de dato de fecha para poder aprovechar luego la lógica de distancia entre fechas/horas y calcular el atraso:"
   ]
  },
  {
   "cell_type": "code",
   "execution_count": null,
   "id": "b28b2444-94bf-491d-9303-f8a439665a82",
   "metadata": {},
   "outputs": [],
   "source": [
    "df['Fecha-O'] = pd.to_datetime(df['Fecha-O'])\n",
    "df['Fecha-I'] = pd.to_datetime(df['Fecha-I'])"
   ]
  },
  {
   "cell_type": "markdown",
   "id": "20d953cd-b1bf-4505-b274-3a29f0614106",
   "metadata": {},
   "source": [
    "Ahora, imagino que la información de un _\"Vuelo Programado\"__ es aquella referente al cómo estaba planificado que se realizace cierto vuelo mientras que la información de _\"Vuelo de Operación\"_ se refiere a lo que ocurrió realmente, considerando cambios que pudieron haberse hecho desde que se planificó el vuelo hasta que se efectuó. Me interesa primero ver hasta que punto el __número de vuelo__ funciona como llave para unir ambas mitades de la información asi que voy a ver cuantos números de vuelo aparecen en la columna `Vlo-I` y no aparecen en `Vlo-O`. "
   ]
  },
  {
   "cell_type": "code",
   "execution_count": null,
   "id": "00a1d0c2-aee5-42bf-bb5f-4f389420f831",
   "metadata": {},
   "outputs": [
    {
     "data": {
      "text/plain": [
       "139"
      ]
     },
     "execution_count": 6,
     "metadata": {},
     "output_type": "execute_result"
    }
   ],
   "source": [
    "symmetricDiff_FlightNumbers = set(df['Vlo-I']).symmetric_difference(set(df['Vlo-O']))\n",
    "len(symmetricDiff_FlightNumbers)"
   ]
  },
  {
   "cell_type": "markdown",
   "id": "81ff9d2a-bda3-4c71-ac59-4d0f2d9b83c0",
   "metadata": {},
   "source": [
    "Comparemos esta cantidad con la cantidad de números distintos de vuelos programados y operados"
   ]
  },
  {
   "cell_type": "code",
   "execution_count": null,
   "id": "05d88830-7606-4f52-a3f8-69a9732e413f",
   "metadata": {},
   "outputs": [
    {
     "data": {
      "text/plain": [
       "750"
      ]
     },
     "execution_count": 7,
     "metadata": {},
     "output_type": "execute_result"
    }
   ],
   "source": [
    "df['Vlo-I'].nunique()"
   ]
  },
  {
   "cell_type": "code",
   "execution_count": null,
   "id": "90832352-50ee-4541-bb6d-7cd39daf8156",
   "metadata": {},
   "outputs": [
    {
     "data": {
      "text/plain": [
       "866"
      ]
     },
     "execution_count": 8,
     "metadata": {},
     "output_type": "execute_result"
    }
   ],
   "source": [
    "df['Vlo-O'].nunique()"
   ]
  },
  {
   "cell_type": "markdown",
   "id": "8bc7894a-28d7-4ad0-b52c-080820478acc",
   "metadata": {},
   "source": [
    "No es una cantidad tan despreciable como esperaba pero considerando que tenemos que apuntar a modelar la probabilidad de atraso para un vuelo dado, tendré que asumir por ahora perder esos vuelos (no puedo saber si hubo atraso si no veo el mismo número de vuelo en ambas columnas, sigo asumiendo que puede ser usado como llave). Antes de eliminar esas filas, voy a verificar datos nulos en la matriz en general y si es que hay algún tipo de sesgo en ese subconjunto de números de vuelos que no están en ambas columnas de operacion y programado (ciertas ciudades en especial, ciertas aerolíneas, etc. dimensiones que puedan hacerme perder clases que mostrarle al modelo)."
   ]
  },
  {
   "cell_type": "code",
   "execution_count": null,
   "id": "76b3c0dc-aa3d-4185-b102-5c8cff600ce7",
   "metadata": {},
   "outputs": [
    {
     "data": {
      "text/plain": [
       "Fecha-I      0\n",
       "Vlo-I        0\n",
       "Ori-I        0\n",
       "Des-I        0\n",
       "Emp-I        0\n",
       "Fecha-O      0\n",
       "Vlo-O        1\n",
       "Ori-O        0\n",
       "Des-O        0\n",
       "Emp-O        0\n",
       "DIA          0\n",
       "MES          0\n",
       "AÑO          0\n",
       "DIANOM       0\n",
       "TIPOVUELO    0\n",
       "OPERA        0\n",
       "SIGLAORI     0\n",
       "SIGLADES     0\n",
       "dtype: int64"
      ]
     },
     "execution_count": 9,
     "metadata": {},
     "output_type": "execute_result"
    }
   ],
   "source": [
    "df.isna().sum()"
   ]
  },
  {
   "cell_type": "markdown",
   "id": "4ecd9986-7f91-429d-8e0c-5e5e31dbd4d6",
   "metadata": {},
   "source": [
    "Super, prácticamente limpio de datos nulos (hasta ahora no he visto algún tipo de codificación rara para datos nulos en esta matriz y tampoco se mencionó en el enunciado)."
   ]
  },
  {
   "cell_type": "code",
   "execution_count": null,
   "id": "66094be2-704b-4a55-9cde-5387d3c1d3ca",
   "metadata": {},
   "outputs": [],
   "source": [
    "excluded_flights = df[df['Vlo-I'].isin(symmetricDiff_FlightNumbers) | df['Vlo-O'].isin(symmetricDiff_FlightNumbers)]"
   ]
  },
  {
   "cell_type": "code",
   "execution_count": null,
   "id": "6cee2d8a-1b5f-48b3-85fb-bf0e732892a4",
   "metadata": {},
   "outputs": [
    {
     "name": "stderr",
     "output_type": "stream",
     "text": [
      "/tmp/ipykernel_725/3470436840.py:1: FutureWarning: Treating datetime data as categorical rather than numeric in `.describe` is deprecated and will be removed in a future version of pandas. Specify `datetime_is_numeric=True` to silence this warning and adopt the future behavior now.\n",
      "  excluded_flights.describe(include = 'all').replace({np.nan: '-'})\n"
     ]
    },
    {
     "data": {
      "text/html": [
       "<div>\n",
       "<style scoped>\n",
       "    .dataframe tbody tr th:only-of-type {\n",
       "        vertical-align: middle;\n",
       "    }\n",
       "\n",
       "    .dataframe tbody tr th {\n",
       "        vertical-align: top;\n",
       "    }\n",
       "\n",
       "    .dataframe thead th {\n",
       "        text-align: right;\n",
       "    }\n",
       "</style>\n",
       "<table border=\"1\" class=\"dataframe\">\n",
       "  <thead>\n",
       "    <tr style=\"text-align: right;\">\n",
       "      <th></th>\n",
       "      <th>Fecha-I</th>\n",
       "      <th>Vlo-I</th>\n",
       "      <th>Ori-I</th>\n",
       "      <th>Des-I</th>\n",
       "      <th>Emp-I</th>\n",
       "      <th>Fecha-O</th>\n",
       "      <th>Vlo-O</th>\n",
       "      <th>Ori-O</th>\n",
       "      <th>Des-O</th>\n",
       "      <th>Emp-O</th>\n",
       "      <th>DIA</th>\n",
       "      <th>MES</th>\n",
       "      <th>AÑO</th>\n",
       "      <th>DIANOM</th>\n",
       "      <th>TIPOVUELO</th>\n",
       "      <th>OPERA</th>\n",
       "      <th>SIGLAORI</th>\n",
       "      <th>SIGLADES</th>\n",
       "    </tr>\n",
       "  </thead>\n",
       "  <tbody>\n",
       "    <tr>\n",
       "      <th>count</th>\n",
       "      <td>1789</td>\n",
       "      <td>1789</td>\n",
       "      <td>1789</td>\n",
       "      <td>1789</td>\n",
       "      <td>1789</td>\n",
       "      <td>1789</td>\n",
       "      <td>1788</td>\n",
       "      <td>1789</td>\n",
       "      <td>1789</td>\n",
       "      <td>1789</td>\n",
       "      <td>1789.0</td>\n",
       "      <td>1789.0</td>\n",
       "      <td>1789.0</td>\n",
       "      <td>1789</td>\n",
       "      <td>1789</td>\n",
       "      <td>1789</td>\n",
       "      <td>1789</td>\n",
       "      <td>1789</td>\n",
       "    </tr>\n",
       "    <tr>\n",
       "      <th>unique</th>\n",
       "      <td>1697</td>\n",
       "      <td>122</td>\n",
       "      <td>1</td>\n",
       "      <td>32</td>\n",
       "      <td>11</td>\n",
       "      <td>1753</td>\n",
       "      <td>130</td>\n",
       "      <td>1</td>\n",
       "      <td>33</td>\n",
       "      <td>12</td>\n",
       "      <td>-</td>\n",
       "      <td>-</td>\n",
       "      <td>-</td>\n",
       "      <td>7</td>\n",
       "      <td>2</td>\n",
       "      <td>10</td>\n",
       "      <td>1</td>\n",
       "      <td>32</td>\n",
       "    </tr>\n",
       "    <tr>\n",
       "      <th>top</th>\n",
       "      <td>2017-12-28 13:00:00</td>\n",
       "      <td>168</td>\n",
       "      <td>SCEL</td>\n",
       "      <td>SCDA</td>\n",
       "      <td>LAN</td>\n",
       "      <td>2017-12-22 05:57:00</td>\n",
       "      <td>170.0</td>\n",
       "      <td>SCEL</td>\n",
       "      <td>SCDA</td>\n",
       "      <td>LAN</td>\n",
       "      <td>-</td>\n",
       "      <td>-</td>\n",
       "      <td>-</td>\n",
       "      <td>Viernes</td>\n",
       "      <td>N</td>\n",
       "      <td>Grupo LATAM</td>\n",
       "      <td>Santiago</td>\n",
       "      <td>Iquique</td>\n",
       "    </tr>\n",
       "    <tr>\n",
       "      <th>freq</th>\n",
       "      <td>3</td>\n",
       "      <td>43</td>\n",
       "      <td>1789</td>\n",
       "      <td>288</td>\n",
       "      <td>1161</td>\n",
       "      <td>2</td>\n",
       "      <td>43</td>\n",
       "      <td>1789</td>\n",
       "      <td>288</td>\n",
       "      <td>752</td>\n",
       "      <td>-</td>\n",
       "      <td>-</td>\n",
       "      <td>-</td>\n",
       "      <td>319</td>\n",
       "      <td>1458</td>\n",
       "      <td>1164</td>\n",
       "      <td>1789</td>\n",
       "      <td>288</td>\n",
       "    </tr>\n",
       "    <tr>\n",
       "      <th>first</th>\n",
       "      <td>2017-01-05 07:05:00</td>\n",
       "      <td>-</td>\n",
       "      <td>-</td>\n",
       "      <td>-</td>\n",
       "      <td>-</td>\n",
       "      <td>2017-01-05 09:36:00</td>\n",
       "      <td>-</td>\n",
       "      <td>-</td>\n",
       "      <td>-</td>\n",
       "      <td>-</td>\n",
       "      <td>-</td>\n",
       "      <td>-</td>\n",
       "      <td>-</td>\n",
       "      <td>-</td>\n",
       "      <td>-</td>\n",
       "      <td>-</td>\n",
       "      <td>-</td>\n",
       "      <td>-</td>\n",
       "    </tr>\n",
       "    <tr>\n",
       "      <th>last</th>\n",
       "      <td>2017-12-31 22:50:00</td>\n",
       "      <td>-</td>\n",
       "      <td>-</td>\n",
       "      <td>-</td>\n",
       "      <td>-</td>\n",
       "      <td>2017-12-31 23:02:00</td>\n",
       "      <td>-</td>\n",
       "      <td>-</td>\n",
       "      <td>-</td>\n",
       "      <td>-</td>\n",
       "      <td>-</td>\n",
       "      <td>-</td>\n",
       "      <td>-</td>\n",
       "      <td>-</td>\n",
       "      <td>-</td>\n",
       "      <td>-</td>\n",
       "      <td>-</td>\n",
       "      <td>-</td>\n",
       "    </tr>\n",
       "    <tr>\n",
       "      <th>mean</th>\n",
       "      <td>-</td>\n",
       "      <td>-</td>\n",
       "      <td>-</td>\n",
       "      <td>-</td>\n",
       "      <td>-</td>\n",
       "      <td>-</td>\n",
       "      <td>-</td>\n",
       "      <td>-</td>\n",
       "      <td>-</td>\n",
       "      <td>-</td>\n",
       "      <td>15.914477</td>\n",
       "      <td>11.740637</td>\n",
       "      <td>2017.0</td>\n",
       "      <td>-</td>\n",
       "      <td>-</td>\n",
       "      <td>-</td>\n",
       "      <td>-</td>\n",
       "      <td>-</td>\n",
       "    </tr>\n",
       "    <tr>\n",
       "      <th>std</th>\n",
       "      <td>-</td>\n",
       "      <td>-</td>\n",
       "      <td>-</td>\n",
       "      <td>-</td>\n",
       "      <td>-</td>\n",
       "      <td>-</td>\n",
       "      <td>-</td>\n",
       "      <td>-</td>\n",
       "      <td>-</td>\n",
       "      <td>-</td>\n",
       "      <td>8.810264</td>\n",
       "      <td>1.482119</td>\n",
       "      <td>0.0</td>\n",
       "      <td>-</td>\n",
       "      <td>-</td>\n",
       "      <td>-</td>\n",
       "      <td>-</td>\n",
       "      <td>-</td>\n",
       "    </tr>\n",
       "    <tr>\n",
       "      <th>min</th>\n",
       "      <td>-</td>\n",
       "      <td>-</td>\n",
       "      <td>-</td>\n",
       "      <td>-</td>\n",
       "      <td>-</td>\n",
       "      <td>-</td>\n",
       "      <td>-</td>\n",
       "      <td>-</td>\n",
       "      <td>-</td>\n",
       "      <td>-</td>\n",
       "      <td>1.0</td>\n",
       "      <td>1.0</td>\n",
       "      <td>2017.0</td>\n",
       "      <td>-</td>\n",
       "      <td>-</td>\n",
       "      <td>-</td>\n",
       "      <td>-</td>\n",
       "      <td>-</td>\n",
       "    </tr>\n",
       "    <tr>\n",
       "      <th>25%</th>\n",
       "      <td>-</td>\n",
       "      <td>-</td>\n",
       "      <td>-</td>\n",
       "      <td>-</td>\n",
       "      <td>-</td>\n",
       "      <td>-</td>\n",
       "      <td>-</td>\n",
       "      <td>-</td>\n",
       "      <td>-</td>\n",
       "      <td>-</td>\n",
       "      <td>8.0</td>\n",
       "      <td>12.0</td>\n",
       "      <td>2017.0</td>\n",
       "      <td>-</td>\n",
       "      <td>-</td>\n",
       "      <td>-</td>\n",
       "      <td>-</td>\n",
       "      <td>-</td>\n",
       "    </tr>\n",
       "    <tr>\n",
       "      <th>50%</th>\n",
       "      <td>-</td>\n",
       "      <td>-</td>\n",
       "      <td>-</td>\n",
       "      <td>-</td>\n",
       "      <td>-</td>\n",
       "      <td>-</td>\n",
       "      <td>-</td>\n",
       "      <td>-</td>\n",
       "      <td>-</td>\n",
       "      <td>-</td>\n",
       "      <td>16.0</td>\n",
       "      <td>12.0</td>\n",
       "      <td>2017.0</td>\n",
       "      <td>-</td>\n",
       "      <td>-</td>\n",
       "      <td>-</td>\n",
       "      <td>-</td>\n",
       "      <td>-</td>\n",
       "    </tr>\n",
       "    <tr>\n",
       "      <th>75%</th>\n",
       "      <td>-</td>\n",
       "      <td>-</td>\n",
       "      <td>-</td>\n",
       "      <td>-</td>\n",
       "      <td>-</td>\n",
       "      <td>-</td>\n",
       "      <td>-</td>\n",
       "      <td>-</td>\n",
       "      <td>-</td>\n",
       "      <td>-</td>\n",
       "      <td>23.0</td>\n",
       "      <td>12.0</td>\n",
       "      <td>2017.0</td>\n",
       "      <td>-</td>\n",
       "      <td>-</td>\n",
       "      <td>-</td>\n",
       "      <td>-</td>\n",
       "      <td>-</td>\n",
       "    </tr>\n",
       "    <tr>\n",
       "      <th>max</th>\n",
       "      <td>-</td>\n",
       "      <td>-</td>\n",
       "      <td>-</td>\n",
       "      <td>-</td>\n",
       "      <td>-</td>\n",
       "      <td>-</td>\n",
       "      <td>-</td>\n",
       "      <td>-</td>\n",
       "      <td>-</td>\n",
       "      <td>-</td>\n",
       "      <td>31.0</td>\n",
       "      <td>12.0</td>\n",
       "      <td>2017.0</td>\n",
       "      <td>-</td>\n",
       "      <td>-</td>\n",
       "      <td>-</td>\n",
       "      <td>-</td>\n",
       "      <td>-</td>\n",
       "    </tr>\n",
       "  </tbody>\n",
       "</table>\n",
       "</div>"
      ],
      "text/plain": [
       "                    Fecha-I Vlo-I Ori-I Des-I Emp-I              Fecha-O  \\\n",
       "count                  1789  1789  1789  1789  1789                 1789   \n",
       "unique                 1697   122     1    32    11                 1753   \n",
       "top     2017-12-28 13:00:00   168  SCEL  SCDA   LAN  2017-12-22 05:57:00   \n",
       "freq                      3    43  1789   288  1161                    2   \n",
       "first   2017-01-05 07:05:00     -     -     -     -  2017-01-05 09:36:00   \n",
       "last    2017-12-31 22:50:00     -     -     -     -  2017-12-31 23:02:00   \n",
       "mean                      -     -     -     -     -                    -   \n",
       "std                       -     -     -     -     -                    -   \n",
       "min                       -     -     -     -     -                    -   \n",
       "25%                       -     -     -     -     -                    -   \n",
       "50%                       -     -     -     -     -                    -   \n",
       "75%                       -     -     -     -     -                    -   \n",
       "max                       -     -     -     -     -                    -   \n",
       "\n",
       "        Vlo-O Ori-O Des-O Emp-O        DIA        MES     AÑO   DIANOM  \\\n",
       "count    1788  1789  1789  1789     1789.0     1789.0  1789.0     1789   \n",
       "unique    130     1    33    12          -          -       -        7   \n",
       "top     170.0  SCEL  SCDA   LAN          -          -       -  Viernes   \n",
       "freq       43  1789   288   752          -          -       -      319   \n",
       "first       -     -     -     -          -          -       -        -   \n",
       "last        -     -     -     -          -          -       -        -   \n",
       "mean        -     -     -     -  15.914477  11.740637  2017.0        -   \n",
       "std         -     -     -     -   8.810264   1.482119     0.0        -   \n",
       "min         -     -     -     -        1.0        1.0  2017.0        -   \n",
       "25%         -     -     -     -        8.0       12.0  2017.0        -   \n",
       "50%         -     -     -     -       16.0       12.0  2017.0        -   \n",
       "75%         -     -     -     -       23.0       12.0  2017.0        -   \n",
       "max         -     -     -     -       31.0       12.0  2017.0        -   \n",
       "\n",
       "       TIPOVUELO        OPERA  SIGLAORI SIGLADES  \n",
       "count       1789         1789      1789     1789  \n",
       "unique         2           10         1       32  \n",
       "top            N  Grupo LATAM  Santiago  Iquique  \n",
       "freq        1458         1164      1789      288  \n",
       "first          -            -         -        -  \n",
       "last           -            -         -        -  \n",
       "mean           -            -         -        -  \n",
       "std            -            -         -        -  \n",
       "min            -            -         -        -  \n",
       "25%            -            -         -        -  \n",
       "50%            -            -         -        -  \n",
       "75%            -            -         -        -  \n",
       "max            -            -         -        -  "
      ]
     },
     "execution_count": 11,
     "metadata": {},
     "output_type": "execute_result"
    }
   ],
   "source": [
    "excluded_flights.describe(include = 'all').replace({np.nan: '-'})"
   ]
  },
  {
   "cell_type": "code",
   "execution_count": 12,
   "id": "b3065de5-d2b5-4d8c-ba46-1742a1dda5d3",
   "metadata": {},
   "outputs": [
    {
     "data": {
      "text/plain": [
       "SCEL    1789\n",
       "Name: Ori-I, dtype: int64"
      ]
     },
     "execution_count": 12,
     "metadata": {},
     "output_type": "execute_result"
    }
   ],
   "source": [
    "excluded_flights['Ori-I'].value_counts()"
   ]
  },
  {
   "cell_type": "code",
   "execution_count": 13,
   "id": "3da43ab6-f276-41c2-b3ba-f50cf6e6ee2a",
   "metadata": {},
   "outputs": [
    {
     "data": {
      "text/plain": [
       "SCEL    1789\n",
       "Name: Ori-O, dtype: int64"
      ]
     },
     "execution_count": 13,
     "metadata": {},
     "output_type": "execute_result"
    }
   ],
   "source": [
    "excluded_flights['Ori-O'].value_counts()"
   ]
  },
  {
   "cell_type": "code",
   "execution_count": 14,
   "id": "66aa8214-e483-4837-9508-d26839bf06b9",
   "metadata": {},
   "outputs": [
    {
     "data": {
      "text/plain": [
       "SCDA    288\n",
       "SCFA    247\n",
       "SCIE    210\n",
       "SCCF    159\n",
       "SCQP    142\n",
       "SCAR    121\n",
       "SAEZ    111\n",
       "SCTE    111\n",
       "SPJC     96\n",
       "SCCI     67\n",
       "SCAT     32\n",
       "SAME     30\n",
       "SACO     29\n",
       "SCVD     24\n",
       "SCPQ     23\n",
       "SUMU     15\n",
       "SCJO     14\n",
       "SAAR     13\n",
       "SCSE     11\n",
       "SBFL      9\n",
       "SCNT      9\n",
       "SULS      6\n",
       "SBGL      6\n",
       "KIAH      3\n",
       "KJFK      3\n",
       "KATL      2\n",
       "LFPG      2\n",
       "SEGU      2\n",
       "KMIA      1\n",
       "SABE      1\n",
       "KDFW      1\n",
       "MMMX      1\n",
       "Name: Des-I, dtype: int64"
      ]
     },
     "execution_count": 14,
     "metadata": {},
     "output_type": "execute_result"
    }
   ],
   "source": [
    "excluded_flights['Des-I'].value_counts()"
   ]
  },
  {
   "cell_type": "code",
   "execution_count": 15,
   "id": "1b625c0b-553e-4095-bba4-5f98e27efa9a",
   "metadata": {},
   "outputs": [
    {
     "data": {
      "text/plain": [
       "SCDA    288\n",
       "SCFA    247\n",
       "SCIE    210\n",
       "SCCF    159\n",
       "SCQP    142\n",
       "SCAR    121\n",
       "SAEZ    111\n",
       "SCTE    111\n",
       "SPJC     96\n",
       "SCCI     67\n",
       "SCAT     32\n",
       "SAME     30\n",
       "SACO     29\n",
       "SCVD     24\n",
       "SCPQ     23\n",
       "SUMU     15\n",
       "SCJO     14\n",
       "SAAR     13\n",
       "SCSE     11\n",
       "SBFL      9\n",
       "SCNT      9\n",
       "SULS      6\n",
       "SBGL      6\n",
       "KIAH      2\n",
       "KATL      2\n",
       "LFPG      2\n",
       "SABE      2\n",
       "KMIA      2\n",
       "KJFK      2\n",
       "KDFW      1\n",
       "MMMX      1\n",
       "SEGU      1\n",
       "KIAD      1\n",
       "Name: Des-O, dtype: int64"
      ]
     },
     "execution_count": 15,
     "metadata": {},
     "output_type": "execute_result"
    }
   ],
   "source": [
    "excluded_flights['Des-O'].value_counts()"
   ]
  },
  {
   "cell_type": "code",
   "execution_count": 16,
   "id": "a7364c15-6a75-4c38-a20c-be56beccfe43",
   "metadata": {},
   "outputs": [
    {
     "data": {
      "text/plain": [
       "LAN    1161\n",
       "SKU     609\n",
       "LAW       3\n",
       "LXP       3\n",
       "UAL       3\n",
       "AAL       2\n",
       "AFR       2\n",
       "DAL       2\n",
       "AVA       2\n",
       "AUT       1\n",
       "LRC       1\n",
       "Name: Emp-I, dtype: int64"
      ]
     },
     "execution_count": 16,
     "metadata": {},
     "output_type": "execute_result"
    }
   ],
   "source": [
    "excluded_flights['Emp-I'].value_counts()"
   ]
  },
  {
   "cell_type": "markdown",
   "id": "c7d52e01-b2a8-423b-a630-b97fe9c93be1",
   "metadata": {},
   "source": [
    "Al parecer el patron evidente es que estos vuelos siempre eran desde la ciudad con código SCEL que es el aeropuerto Arturo Merino Benitez. ¿Quizás sacaron estos vuelos para anonimizar los datos?.\n"
   ]
  },
  {
   "cell_type": "code",
   "execution_count": 17,
   "id": "43616d0e-204a-4e57-9fb4-6c17eeb152d1",
   "metadata": {},
   "outputs": [
    {
     "data": {
      "text/plain": [
       "0"
      ]
     },
     "execution_count": 17,
     "metadata": {},
     "output_type": "execute_result"
    }
   ],
   "source": [
    "indices = df.index.difference(excluded_flights.index)\n",
    "indx = pd.IndexSlice[indices.values]\n",
    "cleaned_df = df.loc[indx]\n",
    "\n",
    "len(cleaned_df[cleaned_df['Des-I'] == 'SCEL']) # Cantidad de vuelos con aeropuerto de origen SCEL luego de sacar los vuelos a excluir"
   ]
  },
  {
   "cell_type": "markdown",
   "id": "f43f43e6-80e2-40c4-98c7-6bc704d63729",
   "metadata": {},
   "source": [
    "Más aún, no solo todos los vuelos a excluir son del aeropuerto de origen SCEL, sino que todos los vuelos con destino SCEL son excluidos.\n",
    "\n",
    "\n",
    "La gran mayoría de los vuelos que voy a tener que sacar son de LAN y de Sky Airlines, comparemos ese número con la frecuencia de esas clases en la columna original"
   ]
  },
  {
   "cell_type": "code",
   "execution_count": 18,
   "id": "32f7b75b-bd91-451d-bdcc-0bcc7a25a7ca",
   "metadata": {},
   "outputs": [
    {
     "data": {
      "text/plain": [
       "LAN    37611\n",
       "SKU    14298\n",
       "TAM     3049\n",
       "ARG     1949\n",
       "CMP     1850\n",
       "LAW     1574\n",
       "AVA     1152\n",
       "JAT     1095\n",
       "GLO      806\n",
       "AAL      757\n",
       "ACA      565\n",
       "IBE      362\n",
       "AFR      358\n",
       "DAL      358\n",
       "AMX      351\n",
       "UAL      335\n",
       "ONE      279\n",
       "AZA      259\n",
       "KLM      251\n",
       "LAP      216\n",
       "BAW      205\n",
       "QFU      195\n",
       "JMR      100\n",
       "LRC       92\n",
       "AUT       74\n",
       "PUE       49\n",
       "LXP        9\n",
       "LPE        4\n",
       "DSM        2\n",
       "LNE        1\n",
       "Name: Emp-I, dtype: int64"
      ]
     },
     "execution_count": 18,
     "metadata": {},
     "output_type": "execute_result"
    }
   ],
   "source": [
    "df['Emp-I'].value_counts()"
   ]
  },
  {
   "cell_type": "code",
   "execution_count": 19,
   "id": "7cb455c4-d9fd-4a31-894d-9da3260f219a",
   "metadata": {},
   "outputs": [
    {
     "data": {
      "image/png": "[encoded data removed]",
      "text/plain": [
       "<Figure size 1080x720 with 1 Axes>"
      ]
     },
     "metadata": {
      "needs_background": "light"
     },
     "output_type": "display_data"
    }
   ],
   "source": [
    "sn.countplot(y = 'Emp-I', data = df, order = df['Emp-I'].value_counts().index)\n",
    "plt.title('Cantidad de vuelos registrados por aerolinea', fontsize = 20)\n",
    "sn.despine();"
   ]
  },
  {
   "cell_type": "markdown",
   "id": "b822afd0-f0dc-4bb7-a6e7-b028b04a4e01",
   "metadata": {},
   "source": [
    "LAN y SKU tienne una frecuencia considerablemente mayor por lo que al restar aquellos vuelos no debiese verse modificada de mayor forma la distirbución de frecuencia de las clases en la muestra.\n",
    "\n",
    "Sigamos con algunas estadísitcas y distribuciones generales, de acá en adelante voy a seguir solo con el dataset limpio de los vuelos que no aparecen tanto en la columna de `Vlo-I` como en la columna de `Vlo-O`."
   ]
  },
  {
   "cell_type": "code",
   "execution_count": 22,
   "id": "28c0fb63-75f2-4bf3-81b6-e6f3003c4448",
   "metadata": {},
   "outputs": [
    {
     "data": {
      "image/png": "[encoded data removed]",
      "text/plain": [
       "<Figure size 1080x720 with 1 Axes>"
      ]
     },
     "metadata": {
      "needs_background": "light"
     },
     "output_type": "display_data"
    }
   ],
   "source": [
    "sn.countplot(y = 'TIPOVUELO', data = cleaned_df)\n",
    "plt.title('Frecuencia de tipo de vuelos muestreados', fontsize = 20)\n",
    "sn.despine()"
   ]
  },
  {
   "cell_type": "markdown",
   "id": "587dc29b-9168-47fb-88fe-aacf8e93fcab",
   "metadata": {},
   "source": [
    "Solo hay dos tipos de vuelo en la muestra, deduzco que deben significar \"Internacional\" y \"Nacional\".\n",
    "\n",
    "Vamos con algunas modas referentes a las ciudades de origen, destino y la combinación de ambas:"
   ]
  },
  {
   "cell_type": "code",
   "execution_count": 23,
   "id": "9f4e0b9d-68b7-4807-a1e9-e43c725a3bc0",
   "metadata": {},
   "outputs": [
    {
     "data": {
      "text/plain": [
       "Santiago    66417\n",
       "Name: SIGLAORI, dtype: int64"
      ]
     },
     "execution_count": 23,
     "metadata": {},
     "output_type": "execute_result"
    }
   ],
   "source": [
    "cleaned_df['SIGLAORI'].value_counts()"
   ]
  },
  {
   "cell_type": "code",
   "execution_count": 24,
   "id": "ed09dc35-168d-4509-93ed-ffabcf74e282",
   "metadata": {},
   "outputs": [
    {
     "data": {
      "text/plain": [
       "Buenos Aires        6222\n",
       "Antofagasta         5539\n",
       "Lima                5174\n",
       "Calama              4987\n",
       "Puerto Montt        4246\n",
       "Concepcion          3783\n",
       "Sao Paulo           3569\n",
       "Iquique             3459\n",
       "Temuco              2447\n",
       "La Serena           2399\n",
       "Arica               2315\n",
       "Punta Arenas        2038\n",
       "Ciudad de Panama    1850\n",
       "Copiapo             1748\n",
       "Bogota              1604\n",
       "Mendoza             1595\n",
       "Rio de Janeiro      1429\n",
       "Montevideo          1051\n",
       "Miami               1014\n",
       "Cordoba              994\n",
       "Madrid               894\n",
       "Balmaceda            839\n",
       "Valdivia             729\n",
       "Ciudad de Mexico     699\n",
       "Isla de Pascua       452\n",
       "Guayaquil            421\n",
       "Nueva York           380\n",
       "Auckland N.Z.        361\n",
       "Paris                357\n",
       "Atlanta              356\n",
       "Dallas               356\n",
       "Houston              332\n",
       "Toronto              283\n",
       "Roma                 259\n",
       "Osorno               245\n",
       "Asuncion             232\n",
       "Castro (Chiloe)      212\n",
       "La Paz               209\n",
       "Londres              205\n",
       "Sydney               194\n",
       "Los Angeles          155\n",
       "Florianapolis        153\n",
       "Rosario              123\n",
       "Santa Cruz           120\n",
       "Puerto Natales        70\n",
       "Cancun                63\n",
       "Punta Cana            54\n",
       "Melbourne             39\n",
       "Tucuman               38\n",
       "Neuquen               37\n",
       "San Juan, Arg.        35\n",
       "Orlando               34\n",
       "Ushuia                 6\n",
       "Curitiba, Bra.         3\n",
       "Cataratas Iguacu       2\n",
       "Bariloche              2\n",
       "Quito                  2\n",
       "Pisco, Peru            1\n",
       "Puerto Stanley         1\n",
       "Cochabamba             1\n",
       "Name: SIGLADES, dtype: int64"
      ]
     },
     "execution_count": 24,
     "metadata": {},
     "output_type": "execute_result"
    }
   ],
   "source": [
    "cleaned_df['SIGLADES'].value_counts()"
   ]
  },
  {
   "cell_type": "markdown",
   "id": "1e59df3e-1ad1-4bb1-b874-6ace42cab175",
   "metadata": {},
   "source": [
    "Solo hay vuelos con origen en Santiago , sin embargo, solo hay destinos que no son esa ciudad (me imagino... ya que no se puede comprar un pasaje desde y hacia el mnismo aeropuerto).\n",
    "\n",
    "Dia de la semana más popular para viajar en general?"
   ]
  },
  {
   "cell_type": "code",
   "execution_count": 25,
   "id": "3af0427f-4ee9-454c-82a7-ba31f942f641",
   "metadata": {},
   "outputs": [
    {
     "data": {
      "text/plain": [
       "Jueves       10011\n",
       "Viernes       9973\n",
       "Lunes         9880\n",
       "Domingo       9532\n",
       "Miercoles     9469\n",
       "Martes        9415\n",
       "Sabado        8137\n",
       "Name: DIANOM, dtype: int64"
      ]
     },
     "execution_count": 25,
     "metadata": {},
     "output_type": "execute_result"
    }
   ],
   "source": [
    "cleaned_df['DIANOM'].value_counts()"
   ]
  },
  {
   "cell_type": "markdown",
   "id": "677c97b9-385e-4306-a4cd-0050e18d5996",
   "metadata": {},
   "source": [
    "Los jueves y viernes son los más populares. Veamos que tal es la cantidad de vuelos que se agendan por mes, para ser limpios voy a crear una columna dummy que me sirva para contar sobre la agregación:"
   ]
  },
  {
   "cell_type": "code",
   "execution_count": 26,
   "id": "cf3765d5-0890-4330-9790-9582d9639d1a",
   "metadata": {},
   "outputs": [],
   "source": [
    "cleaned_df['dummy_count'] = 1"
   ]
  },
  {
   "cell_type": "code",
   "execution_count": 27,
   "id": "911c34e3-b6da-4143-abe8-77585be6a5c0",
   "metadata": {},
   "outputs": [
    {
     "data": {
      "text/plain": [
       "AÑO   MES\n",
       "2017  1      6101\n",
       "      2      5547\n",
       "      3      5466\n",
       "      4      5018\n",
       "      5      5233\n",
       "      6      4979\n",
       "      7      5987\n",
       "      8      5740\n",
       "      9      5609\n",
       "      10     6031\n",
       "      11     6078\n",
       "      12     4626\n",
       "2018  1         2\n",
       "Name: dummy_count, dtype: int64"
      ]
     },
     "execution_count": 27,
     "metadata": {},
     "output_type": "execute_result"
    }
   ],
   "source": [
    "grouped_year_month = cleaned_df.groupby(by = ['AÑO', 'MES'])['dummy_count'].count()\n",
    "grouped_year_month"
   ]
  },
  {
   "cell_type": "code",
   "execution_count": 28,
   "id": "ebe45c8c-a1e7-4338-9746-d644bbe7ba21",
   "metadata": {},
   "outputs": [
    {
     "data": {
      "image/png": "[encoded data removed]",
      "text/plain": [
       "<Figure size 864x360 with 1 Axes>"
      ]
     },
     "metadata": {
      "needs_background": "light"
     },
     "output_type": "display_data"
    }
   ],
   "source": [
    "_, _ = plt.subplots(figsize = (12,5))\n",
    "\n",
    "grouped_year_month.plot(marker = 'o')\n",
    "plt.title('Vuelos totales realizados en el tiempo', fontsize = 20)\n",
    "sn.despine();"
   ]
  },
  {
   "cell_type": "markdown",
   "id": "626b32e2-675c-4d03-b9cb-26b63475d30a",
   "metadata": {},
   "source": [
    "Claramente hay una caída importante en la cantidad de vuelos operados en Diciembre de 2017 y Enero de 2018. Con respecto a diciembre tendería a pensar que puede ser porque las personas tienden a estar con sus familias en lugar de irse de vacaciones o tener vuelos de negocio, con respecto a enero todo indica que en realidad no es que hayan solo 2 vuelos, sino que los datos dejaron de medirse cuando apenas se habían registrado dos vuelos de ese mes, esto es un problema porque no quiero mostrarle a un modelo que en enero puede haber una cantidad tan baja de vuelos, para estar seguro tendría que consultar en mayor detalle a los encargados de la extracción de estos datos pero para efectos de ese ejercicio voy a hacer un salto de fe en que ese valor no corresponde a la distribución original de vuelos realizados en un mes de enero típico y voy a sacar los dos vuelos de enero del 2018. "
   ]
  },
  {
   "cell_type": "code",
   "execution_count": 29,
   "id": "d7064c43-15ce-4bfa-85ae-afe4c258c19c",
   "metadata": {},
   "outputs": [],
   "source": [
    "cleaned_df = cleaned_df[~((cleaned_df['AÑO'] == 2018) & (cleaned_df['MES'] == 1))]"
   ]
  },
  {
   "cell_type": "markdown",
   "id": "1f98d266-f76f-4858-ab3b-49e53cc8efc2",
   "metadata": {},
   "source": [
    "## Columnas Sintéticas\n",
    "\n",
    "En el enunciado se pide la creación de algunas columnas sintéticas, acá va a ser de utilidad haber convertido las columnas de fecha al formato correcto:"
   ]
  },
  {
   "cell_type": "code",
   "execution_count": 30,
   "id": "a3ad2824-f263-46b7-b2bd-6efaf33c3c1a",
   "metadata": {},
   "outputs": [
    {
     "data": {
      "text/plain": [
       "False    55932\n",
       "True     10483\n",
       "Name: Fecha-I, dtype: int64"
      ]
     },
     "execution_count": 30,
     "metadata": {},
     "output_type": "execute_result"
    }
   ],
   "source": [
    "(('2017-05-01' > cleaned_df['Fecha-I']) & (cleaned_df['Fecha-I'] > '2017-03-01')).value_counts()"
   ]
  },
  {
   "cell_type": "code",
   "execution_count": 31,
   "id": "e9460d8b-e403-4ffd-bcfe-93db7d2ab5d1",
   "metadata": {},
   "outputs": [],
   "source": [
    "cleaned_df['temporada_alta'] = np.where(\n",
    "    (('2017-12-15' > cleaned_df['Fecha-I']) & (cleaned_df['Fecha-I'] > '2017-03-03')) | # entre 15-dic y 31-mar\n",
    "    ((('2017-07-31' > cleaned_df['Fecha-I']) & (cleaned_df['Fecha-I'] > '2017-07-15'))) | # entre 15-jul y 31-jul \n",
    "    (('2017-09-30' > cleaned_df['Fecha-I']) & (cleaned_df['Fecha-I'] > '2017-09-11')) # entre 11-sep y 30-sep\n",
    "    , 1, 0)"
   ]
  },
  {
   "cell_type": "code",
   "execution_count": 32,
   "id": "248520da-24d0-4636-9ad0-24999f108f76",
   "metadata": {},
   "outputs": [],
   "source": [
    "cleaned_df['dif_min'] = cleaned_df.apply(lambda x: pd.Timedelta(x['Fecha-O'] - x['Fecha-I']).seconds/3600 , axis = 1)"
   ]
  },
  {
   "cell_type": "code",
   "execution_count": 33,
   "id": "6d951491-17e8-4880-a8b5-da39394c40f4",
   "metadata": {},
   "outputs": [],
   "source": [
    "cleaned_df['atraso_15'] = np.where(cleaned_df['dif_min'] > 15, 1, 0)"
   ]
  },
  {
   "cell_type": "markdown",
   "id": "70b2b992-e1ce-4f3a-aedf-1eee11da9e70",
   "metadata": {},
   "source": [
    "Para la columna de `periodo_dia` me es más fácil hacer una función que incorpore la lógica:"
   ]
  },
  {
   "cell_type": "code",
   "execution_count": 34,
   "id": "a608083e-b9d3-4b24-8663-2b6394cd8711",
   "metadata": {},
   "outputs": [],
   "source": [
    "def get_time_of_day(date_and_time):\n",
    "    if (date_and_time['Fecha-I'].hour >= 5) and  (date_and_time['Fecha-I'].hour < 12):\n",
    "        return 'mañana'\n",
    "    elif (date_and_time['Fecha-I'].hour >= 12) and  (date_and_time['Fecha-I'].hour < 19):\n",
    "        return 'tarde'\n",
    "    elif (date_and_time['Fecha-I'].hour >= 19) or  (date_and_time['Fecha-I'].hour < 5):\n",
    "        return 'noche'"
   ]
  },
  {
   "cell_type": "code",
   "execution_count": 35,
   "id": "c2400e1a-3489-4262-be9d-965e3c0e7cfb",
   "metadata": {},
   "outputs": [],
   "source": [
    "cleaned_df['periodo_dia'] = cleaned_df.apply(lambda x: get_time_of_day(x), axis = 1)"
   ]
  },
  {
   "cell_type": "markdown",
   "id": "fd214d82-68f9-4fb3-9eec-fba497703c86",
   "metadata": {},
   "source": [
    "Ahora almacenamos en un archivo llamado `synthetic_features.csv` como se pide:"
   ]
  },
  {
   "cell_type": "code",
   "execution_count": 36,
   "id": "e8184910-d9d7-4200-b00a-437112a82863",
   "metadata": {},
   "outputs": [],
   "source": [
    "cleaned_df[['temporada_alta', 'dif_min', 'atraso_15', 'periodo_dia']].to_csv('synthetic_features.csv', index = False)"
   ]
  },
  {
   "cell_type": "markdown",
   "id": "975477f8-4fe8-4885-91bc-8d70e6241361",
   "metadata": {},
   "source": [
    "## Estudio de la composición de los atrasos\n",
    "\n",
    "### Tasa de atraso por destino\n",
    "\n",
    "Voy a ver primero los destinos para los cuales hay mayores y menores tasas de atraso, para efectos de lo que queda de trabajo voy a basarme principalmente en la columna de `atraso_15` que marca si es que el vuelo se atrasó más de 15 minutos o no, en lugar de ver el atraso directamente en `dif_min`"
   ]
  },
  {
   "cell_type": "code",
   "execution_count": 37,
   "id": "87a723e5-9a87-4f65-8a5e-3b2538bc78b3",
   "metadata": {},
   "outputs": [],
   "source": [
    "crosstab_atrasos_destino = pd.crosstab(cleaned_df['atraso_15'], cleaned_df['SIGLADES']).T"
   ]
  },
  {
   "cell_type": "code",
   "execution_count": 38,
   "id": "388c646b-3688-46ff-8caa-6c4816171f64",
   "metadata": {},
   "outputs": [
    {
     "name": "stdout",
     "output_type": "stream",
     "text": [
      "Destinos con menor cantidad de atrasos:\n"
     ]
    },
    {
     "data": {
      "text/plain": [
       "SIGLADES\n",
       "Buenos Aires    4737\n",
       "Lima            3937\n",
       "Antofagasta     3789\n",
       "Puerto Montt    3416\n",
       "Calama          3355\n",
       "Name: 0, dtype: int64"
      ]
     },
     "execution_count": 38,
     "metadata": {},
     "output_type": "execute_result"
    }
   ],
   "source": [
    "print('Destinos con menor cantidad de atrasos:')\n",
    "crosstab_atrasos_destino[0].sort_values(ascending = False)[:5]"
   ]
  },
  {
   "cell_type": "code",
   "execution_count": 39,
   "id": "9c67c3dc-abbc-48db-be75-14f85dd18b04",
   "metadata": {},
   "outputs": [
    {
     "name": "stdout",
     "output_type": "stream",
     "text": [
      "Destinos con mayor cantidad de atrasos:\n"
     ]
    },
    {
     "data": {
      "text/plain": [
       "SIGLADES\n",
       "Antofagasta     1750\n",
       "Calama          1632\n",
       "Buenos Aires    1485\n",
       "Lima            1237\n",
       "Concepcion      1112\n",
       "Name: 1, dtype: int64"
      ]
     },
     "execution_count": 39,
     "metadata": {},
     "output_type": "execute_result"
    }
   ],
   "source": [
    "print('Destinos con mayor cantidad de atrasos:')\n",
    "crosstab_atrasos_destino[1].sort_values(ascending = False)[:5]"
   ]
  },
  {
   "cell_type": "code",
   "execution_count": null,
   "id": "07dc3bdc-7530-48cc-9f38-c57e398ce3a2",
   "metadata": {
    "tags": []
   },
   "outputs": [],
   "source": [
    "sn.countplot(y = 'SIGLADES', hue = 'atraso_15', data = cleaned_df[cleaned_df['atraso_15'] == 0],\n",
    "             order = cleaned_df[cleaned_df['atraso_15'] == 0].value_counts().index)\n",
    "plt.title('Distribución de vuelos a la hora según ciudad de destino', fontsize = 20)\n",
    "sn.despine();"
   ]
  },
  {
   "cell_type": "code",
   "execution_count": null,
   "id": "c3a8a87d-253a-428d-870b-eadf2ca156eb",
   "metadata": {},
   "outputs": [],
   "source": [
    "sn.countplot(y = 'SIGLADES', hue = 'atraso_15', data = cleaned_df[cleaned_df['atraso_15'] == 1],\n",
    "             order = cleaned_df[cleaned_df['atraso_15'] == 1].value_counts().index)\n",
    "plt.title('Distribución de atrasos según ciudad de destino', fontsize = 20)\n",
    "sn.despine();"
   ]
  },
  {
   "cell_type": "code",
   "execution_count": 40,
   "id": "5e3bec6b-a5ba-4104-ada6-97786310a749",
   "metadata": {},
   "outputs": [
    {
     "data": {
      "image/png": "[encoded data removed]",
      "text/plain": [
       "<Figure size 864x360 with 1 Axes>"
      ]
     },
     "metadata": {
      "needs_background": "light"
     },
     "output_type": "display_data"
    }
   ],
   "source": [
    "_, _ = plt.subplots(figsize = (12,5))\n",
    "\n",
    "cleaned_df.groupby(by = ['AÑO', 'MES'])['atraso_15'].sum().plot(marker = 'o')\n",
    "plt.title('Vuelos totales atrasados en el tiempo', fontsize = 20)\n",
    "sn.despine();\n"
   ]
  },
  {
   "cell_type": "markdown",
   "id": "71939bdb-cf1c-4e1f-8d61-aa5155fbcb36",
   "metadata": {},
   "source": [
    "Claramente parecen haber mayores atrasos en el mes de marzo, veamos que tal con respecto a mes y día de la semana"
   ]
  },
  {
   "cell_type": "code",
   "execution_count": 41,
   "id": "f8718c28-2f3e-470c-b69b-b4b03d195ad1",
   "metadata": {},
   "outputs": [
    {
     "data": {
      "image/png": "[encoded data removed]",
      "text/plain": [
       "<Figure size 864x360 with 1 Axes>"
      ]
     },
     "metadata": {
      "needs_background": "light"
     },
     "output_type": "display_data"
    }
   ],
   "source": [
    "_, _ = plt.subplots(figsize = (12,5))\n",
    "\n",
    "cleaned_df.groupby(by = ['MES', 'DIANOM'])['atraso_15'].sum().plot(marker = 'o')\n",
    "plt.title('Vuelos totales atrasados en el tiempo', fontsize = 20)\n",
    "sn.despine();\n"
   ]
  },
  {
   "cell_type": "markdown",
   "id": "bd2297c5-e6d4-4513-8a8b-db7456672d05",
   "metadata": {},
   "source": [
    "Con algunas etiquedas en los puntos de datos este gráfico podría ser interesante, por tiempo no lo voyn a hacer ahora y me voy a contentar con la tabla de conteo"
   ]
  },
  {
   "cell_type": "code",
   "execution_count": 42,
   "id": "dd3a0697-b976-4f64-b18e-89d7bfedbfae",
   "metadata": {},
   "outputs": [
    {
     "data": {
      "text/html": [
       "<div>\n",
       "<style scoped>\n",
       "    .dataframe tbody tr th:only-of-type {\n",
       "        vertical-align: middle;\n",
       "    }\n",
       "\n",
       "    .dataframe tbody tr th {\n",
       "        vertical-align: top;\n",
       "    }\n",
       "\n",
       "    .dataframe thead th {\n",
       "        text-align: right;\n",
       "    }\n",
       "</style>\n",
       "<table border=\"1\" class=\"dataframe\">\n",
       "  <thead>\n",
       "    <tr style=\"text-align: right;\">\n",
       "      <th></th>\n",
       "      <th>MES</th>\n",
       "      <th>DIANOM</th>\n",
       "      <th>temporada_alta</th>\n",
       "      <th>periodo_dia</th>\n",
       "      <th>TIPOVUELO</th>\n",
       "      <th>OPERA</th>\n",
       "      <th>SIGLADES</th>\n",
       "      <th>atraso_15</th>\n",
       "    </tr>\n",
       "  </thead>\n",
       "  <tbody>\n",
       "    <tr>\n",
       "      <th>0</th>\n",
       "      <td>8</td>\n",
       "      <td>Miercoles</td>\n",
       "      <td>1</td>\n",
       "      <td>tarde</td>\n",
       "      <td>N</td>\n",
       "      <td>Grupo LATAM</td>\n",
       "      <td>Calama</td>\n",
       "      <td>18</td>\n",
       "    </tr>\n",
       "    <tr>\n",
       "      <th>1</th>\n",
       "      <td>8</td>\n",
       "      <td>Jueves</td>\n",
       "      <td>1</td>\n",
       "      <td>mañana</td>\n",
       "      <td>N</td>\n",
       "      <td>Grupo LATAM</td>\n",
       "      <td>Antofagasta</td>\n",
       "      <td>17</td>\n",
       "    </tr>\n",
       "    <tr>\n",
       "      <th>2</th>\n",
       "      <td>3</td>\n",
       "      <td>Viernes</td>\n",
       "      <td>1</td>\n",
       "      <td>tarde</td>\n",
       "      <td>N</td>\n",
       "      <td>Grupo LATAM</td>\n",
       "      <td>Antofagasta</td>\n",
       "      <td>16</td>\n",
       "    </tr>\n",
       "    <tr>\n",
       "      <th>3</th>\n",
       "      <td>3</td>\n",
       "      <td>Miercoles</td>\n",
       "      <td>1</td>\n",
       "      <td>tarde</td>\n",
       "      <td>N</td>\n",
       "      <td>Grupo LATAM</td>\n",
       "      <td>Antofagasta</td>\n",
       "      <td>15</td>\n",
       "    </tr>\n",
       "    <tr>\n",
       "      <th>4</th>\n",
       "      <td>6</td>\n",
       "      <td>Jueves</td>\n",
       "      <td>1</td>\n",
       "      <td>mañana</td>\n",
       "      <td>N</td>\n",
       "      <td>Grupo LATAM</td>\n",
       "      <td>Antofagasta</td>\n",
       "      <td>14</td>\n",
       "    </tr>\n",
       "    <tr>\n",
       "      <th>...</th>\n",
       "      <td>...</td>\n",
       "      <td>...</td>\n",
       "      <td>...</td>\n",
       "      <td>...</td>\n",
       "      <td>...</td>\n",
       "      <td>...</td>\n",
       "      <td>...</td>\n",
       "      <td>...</td>\n",
       "    </tr>\n",
       "    <tr>\n",
       "      <th>11592</th>\n",
       "      <td>4</td>\n",
       "      <td>Miercoles</td>\n",
       "      <td>1</td>\n",
       "      <td>mañana</td>\n",
       "      <td>N</td>\n",
       "      <td>Grupo LATAM</td>\n",
       "      <td>Balmaceda</td>\n",
       "      <td>0</td>\n",
       "    </tr>\n",
       "    <tr>\n",
       "      <th>11593</th>\n",
       "      <td>10</td>\n",
       "      <td>Jueves</td>\n",
       "      <td>1</td>\n",
       "      <td>mañana</td>\n",
       "      <td>N</td>\n",
       "      <td>JetSmart SPA</td>\n",
       "      <td>Temuco</td>\n",
       "      <td>0</td>\n",
       "    </tr>\n",
       "    <tr>\n",
       "      <th>11594</th>\n",
       "      <td>10</td>\n",
       "      <td>Jueves</td>\n",
       "      <td>1</td>\n",
       "      <td>mañana</td>\n",
       "      <td>N</td>\n",
       "      <td>Latin American Wings</td>\n",
       "      <td>Concepcion</td>\n",
       "      <td>0</td>\n",
       "    </tr>\n",
       "    <tr>\n",
       "      <th>11595</th>\n",
       "      <td>4</td>\n",
       "      <td>Miercoles</td>\n",
       "      <td>1</td>\n",
       "      <td>mañana</td>\n",
       "      <td>I</td>\n",
       "      <td>Grupo LATAM</td>\n",
       "      <td>Montevideo</td>\n",
       "      <td>0</td>\n",
       "    </tr>\n",
       "    <tr>\n",
       "      <th>11596</th>\n",
       "      <td>12</td>\n",
       "      <td>Viernes</td>\n",
       "      <td>1</td>\n",
       "      <td>tarde</td>\n",
       "      <td>N</td>\n",
       "      <td>Sky Airline</td>\n",
       "      <td>Valdivia</td>\n",
       "      <td>0</td>\n",
       "    </tr>\n",
       "  </tbody>\n",
       "</table>\n",
       "<p>11597 rows × 8 columns</p>\n",
       "</div>"
      ],
      "text/plain": [
       "       MES     DIANOM  temporada_alta periodo_dia TIPOVUELO  \\\n",
       "0        8  Miercoles               1       tarde         N   \n",
       "1        8     Jueves               1      mañana         N   \n",
       "2        3    Viernes               1       tarde         N   \n",
       "3        3  Miercoles               1       tarde         N   \n",
       "4        6     Jueves               1      mañana         N   \n",
       "...    ...        ...             ...         ...       ...   \n",
       "11592    4  Miercoles               1      mañana         N   \n",
       "11593   10     Jueves               1      mañana         N   \n",
       "11594   10     Jueves               1      mañana         N   \n",
       "11595    4  Miercoles               1      mañana         I   \n",
       "11596   12    Viernes               1       tarde         N   \n",
       "\n",
       "                      OPERA     SIGLADES  atraso_15  \n",
       "0               Grupo LATAM       Calama         18  \n",
       "1               Grupo LATAM  Antofagasta         17  \n",
       "2               Grupo LATAM  Antofagasta         16  \n",
       "3               Grupo LATAM  Antofagasta         15  \n",
       "4               Grupo LATAM  Antofagasta         14  \n",
       "...                     ...          ...        ...  \n",
       "11592           Grupo LATAM    Balmaceda          0  \n",
       "11593          JetSmart SPA       Temuco          0  \n",
       "11594  Latin American Wings   Concepcion          0  \n",
       "11595           Grupo LATAM   Montevideo          0  \n",
       "11596           Sky Airline     Valdivia          0  \n",
       "\n",
       "[11597 rows x 8 columns]"
      ]
     },
     "execution_count": 42,
     "metadata": {},
     "output_type": "execute_result"
    }
   ],
   "source": [
    "grouped_multivar_atraso = cleaned_df.groupby(\n",
    "    by = ['MES', 'DIANOM', 'temporada_alta', 'periodo_dia', 'TIPOVUELO', 'OPERA', 'SIGLADES'])['atraso_15']\\\n",
    "                                                .sum()\\\n",
    "                                                .sort_values(ascending = False)\\\n",
    "                                                .reset_index()\n",
    "grouped_multivar_atraso"
   ]
  },
  {
   "cell_type": "code",
   "execution_count": 43,
   "id": "6ae77670-23fc-4b82-8e49-f3696de48f8f",
   "metadata": {},
   "outputs": [
    {
     "data": {
      "image/png": "[encoded data removed]",
      "text/plain": [
       "<Figure size 1080x720 with 1 Axes>"
      ]
     },
     "metadata": {
      "needs_background": "light"
     },
     "output_type": "display_data"
    }
   ],
   "source": [
    "sn.boxplot(x = 'DIANOM', y = 'atraso_15', data = grouped_multivar_atraso)\n",
    "plt.title('Boxplot cantidad de atrasos según día de la semana', fontsize = 20)\n",
    "sn.despine()"
   ]
  },
  {
   "cell_type": "code",
   "execution_count": 44,
   "id": "e946a966-e754-48e9-9f7e-aff1f11e82c9",
   "metadata": {},
   "outputs": [
    {
     "data": {
      "image/png": "[encoded data removed]",
      "text/plain": [
       "<Figure size 1080x720 with 1 Axes>"
      ]
     },
     "metadata": {
      "needs_background": "light"
     },
     "output_type": "display_data"
    }
   ],
   "source": [
    "sn.boxplot(x = 'MES', y = 'atraso_15', data = grouped_multivar_atraso)\n",
    "plt.title('Boxplot cantidad de atrasos según mes del año', fontsize = 20)\n",
    "sn.despine()"
   ]
  },
  {
   "cell_type": "code",
   "execution_count": 45,
   "id": "f53c0361-4d9d-45fd-83c0-bf15dcb7c141",
   "metadata": {},
   "outputs": [
    {
     "data": {
      "image/png": "[encoded data removed]",
      "text/plain": [
       "<Figure size 1080x720 with 1 Axes>"
      ]
     },
     "metadata": {
      "needs_background": "light"
     },
     "output_type": "display_data"
    }
   ],
   "source": [
    "sn.boxplot(y = 'OPERA', x = 'atraso_15', data = grouped_multivar_atraso)\n",
    "plt.title('Boxplot cantidad de atrasos según Aerolínea que opera', fontsize = 20)\n",
    "sn.despine()"
   ]
  },
  {
   "cell_type": "code",
   "execution_count": 46,
   "id": "986febd9-c1f0-4d96-bd2b-9c00f0da32ee",
   "metadata": {},
   "outputs": [
    {
     "data": {
      "text/html": [
       "<div>\n",
       "<style scoped>\n",
       "    .dataframe tbody tr th:only-of-type {\n",
       "        vertical-align: middle;\n",
       "    }\n",
       "\n",
       "    .dataframe tbody tr th {\n",
       "        vertical-align: top;\n",
       "    }\n",
       "\n",
       "    .dataframe thead th {\n",
       "        text-align: right;\n",
       "    }\n",
       "</style>\n",
       "<table border=\"1\" class=\"dataframe\">\n",
       "  <thead>\n",
       "    <tr style=\"text-align: right;\">\n",
       "      <th></th>\n",
       "      <th>MES</th>\n",
       "      <th>DIANOM</th>\n",
       "      <th>temporada_alta</th>\n",
       "      <th>periodo_dia</th>\n",
       "      <th>TIPOVUELO</th>\n",
       "      <th>OPERA</th>\n",
       "      <th>SIGLADES</th>\n",
       "      <th>atraso_15</th>\n",
       "    </tr>\n",
       "  </thead>\n",
       "  <tbody>\n",
       "    <tr>\n",
       "      <th>0</th>\n",
       "      <td>8</td>\n",
       "      <td>Miercoles</td>\n",
       "      <td>1</td>\n",
       "      <td>tarde</td>\n",
       "      <td>N</td>\n",
       "      <td>Grupo LATAM</td>\n",
       "      <td>Calama</td>\n",
       "      <td>18</td>\n",
       "    </tr>\n",
       "    <tr>\n",
       "      <th>1</th>\n",
       "      <td>8</td>\n",
       "      <td>Jueves</td>\n",
       "      <td>1</td>\n",
       "      <td>mañana</td>\n",
       "      <td>N</td>\n",
       "      <td>Grupo LATAM</td>\n",
       "      <td>Antofagasta</td>\n",
       "      <td>17</td>\n",
       "    </tr>\n",
       "    <tr>\n",
       "      <th>2</th>\n",
       "      <td>3</td>\n",
       "      <td>Viernes</td>\n",
       "      <td>1</td>\n",
       "      <td>tarde</td>\n",
       "      <td>N</td>\n",
       "      <td>Grupo LATAM</td>\n",
       "      <td>Antofagasta</td>\n",
       "      <td>16</td>\n",
       "    </tr>\n",
       "    <tr>\n",
       "      <th>3</th>\n",
       "      <td>3</td>\n",
       "      <td>Miercoles</td>\n",
       "      <td>1</td>\n",
       "      <td>tarde</td>\n",
       "      <td>N</td>\n",
       "      <td>Grupo LATAM</td>\n",
       "      <td>Antofagasta</td>\n",
       "      <td>15</td>\n",
       "    </tr>\n",
       "    <tr>\n",
       "      <th>4</th>\n",
       "      <td>6</td>\n",
       "      <td>Jueves</td>\n",
       "      <td>1</td>\n",
       "      <td>mañana</td>\n",
       "      <td>N</td>\n",
       "      <td>Grupo LATAM</td>\n",
       "      <td>Antofagasta</td>\n",
       "      <td>14</td>\n",
       "    </tr>\n",
       "    <tr>\n",
       "      <th>...</th>\n",
       "      <td>...</td>\n",
       "      <td>...</td>\n",
       "      <td>...</td>\n",
       "      <td>...</td>\n",
       "      <td>...</td>\n",
       "      <td>...</td>\n",
       "      <td>...</td>\n",
       "      <td>...</td>\n",
       "    </tr>\n",
       "    <tr>\n",
       "      <th>11592</th>\n",
       "      <td>4</td>\n",
       "      <td>Miercoles</td>\n",
       "      <td>1</td>\n",
       "      <td>mañana</td>\n",
       "      <td>N</td>\n",
       "      <td>Grupo LATAM</td>\n",
       "      <td>Balmaceda</td>\n",
       "      <td>0</td>\n",
       "    </tr>\n",
       "    <tr>\n",
       "      <th>11593</th>\n",
       "      <td>10</td>\n",
       "      <td>Jueves</td>\n",
       "      <td>1</td>\n",
       "      <td>mañana</td>\n",
       "      <td>N</td>\n",
       "      <td>JetSmart SPA</td>\n",
       "      <td>Temuco</td>\n",
       "      <td>0</td>\n",
       "    </tr>\n",
       "    <tr>\n",
       "      <th>11594</th>\n",
       "      <td>10</td>\n",
       "      <td>Jueves</td>\n",
       "      <td>1</td>\n",
       "      <td>mañana</td>\n",
       "      <td>N</td>\n",
       "      <td>Latin American Wings</td>\n",
       "      <td>Concepcion</td>\n",
       "      <td>0</td>\n",
       "    </tr>\n",
       "    <tr>\n",
       "      <th>11595</th>\n",
       "      <td>4</td>\n",
       "      <td>Miercoles</td>\n",
       "      <td>1</td>\n",
       "      <td>mañana</td>\n",
       "      <td>I</td>\n",
       "      <td>Grupo LATAM</td>\n",
       "      <td>Montevideo</td>\n",
       "      <td>0</td>\n",
       "    </tr>\n",
       "    <tr>\n",
       "      <th>11596</th>\n",
       "      <td>12</td>\n",
       "      <td>Viernes</td>\n",
       "      <td>1</td>\n",
       "      <td>tarde</td>\n",
       "      <td>N</td>\n",
       "      <td>Sky Airline</td>\n",
       "      <td>Valdivia</td>\n",
       "      <td>0</td>\n",
       "    </tr>\n",
       "  </tbody>\n",
       "</table>\n",
       "<p>11597 rows × 8 columns</p>\n",
       "</div>"
      ],
      "text/plain": [
       "       MES     DIANOM  temporada_alta periodo_dia TIPOVUELO  \\\n",
       "0        8  Miercoles               1       tarde         N   \n",
       "1        8     Jueves               1      mañana         N   \n",
       "2        3    Viernes               1       tarde         N   \n",
       "3        3  Miercoles               1       tarde         N   \n",
       "4        6     Jueves               1      mañana         N   \n",
       "...    ...        ...             ...         ...       ...   \n",
       "11592    4  Miercoles               1      mañana         N   \n",
       "11593   10     Jueves               1      mañana         N   \n",
       "11594   10     Jueves               1      mañana         N   \n",
       "11595    4  Miercoles               1      mañana         I   \n",
       "11596   12    Viernes               1       tarde         N   \n",
       "\n",
       "                      OPERA     SIGLADES  atraso_15  \n",
       "0               Grupo LATAM       Calama         18  \n",
       "1               Grupo LATAM  Antofagasta         17  \n",
       "2               Grupo LATAM  Antofagasta         16  \n",
       "3               Grupo LATAM  Antofagasta         15  \n",
       "4               Grupo LATAM  Antofagasta         14  \n",
       "...                     ...          ...        ...  \n",
       "11592           Grupo LATAM    Balmaceda          0  \n",
       "11593          JetSmart SPA       Temuco          0  \n",
       "11594  Latin American Wings   Concepcion          0  \n",
       "11595           Grupo LATAM   Montevideo          0  \n",
       "11596           Sky Airline     Valdivia          0  \n",
       "\n",
       "[11597 rows x 8 columns]"
      ]
     },
     "execution_count": 46,
     "metadata": {},
     "output_type": "execute_result"
    }
   ],
   "source": [
    "grouped_multivar_atraso"
   ]
  },
  {
   "cell_type": "code",
   "execution_count": 47,
   "id": "b56df496-a3fc-43a6-b99e-132950904316",
   "metadata": {},
   "outputs": [
    {
     "data": {
      "image/png": "[encoded data removed]",
      "text/plain": [
       "<Figure size 1080x720 with 1 Axes>"
      ]
     },
     "metadata": {
      "needs_background": "light"
     },
     "output_type": "display_data"
    }
   ],
   "source": [
    "sn.boxplot(x = 'TIPOVUELO', y = 'atraso_15', data = grouped_multivar_atraso.replace(\n",
    "    {'TIPOVUELO':{'N': 'Nacional', 'I': 'Internacional'}}))\n",
    "plt.title('Boxplot cantidad de atrasos según Aerolínea que opera', fontsize = 20)\n",
    "sn.despine()"
   ]
  },
  {
   "cell_type": "code",
   "execution_count": 48,
   "id": "52dd33df-6495-441a-9e06-df4328b35032",
   "metadata": {},
   "outputs": [
    {
     "data": {
      "image/png": "[encoded data removed]",
      "text/plain": [
       "<Figure size 1080x720 with 1 Axes>"
      ]
     },
     "metadata": {
      "needs_background": "light"
     },
     "output_type": "display_data"
    }
   ],
   "source": [
    "sn.boxplot(x = 'temporada_alta', y = 'atraso_15', data = grouped_multivar_atraso.replace({\n",
    "        'temporada_alta': {0:'Temporada Baja', 1: 'Temporada Alta'}}))\n",
    "plt.title('Boxplot cantidad de atrasos según Aerolínea que opera', fontsize = 20)\n",
    "sn.despine()"
   ]
  },
  {
   "cell_type": "code",
   "execution_count": 49,
   "id": "244c2db7-768f-406f-9050-2c1143cf9201",
   "metadata": {},
   "outputs": [
    {
     "data": {
      "image/png": "[encoded data removed]",
      "text/plain": [
       "<Figure size 720x1080 with 1 Axes>"
      ]
     },
     "metadata": {
      "needs_background": "light"
     },
     "output_type": "display_data"
    }
   ],
   "source": [
    "_,_ = plt.subplots(figsize = (10,15))\n",
    "sn.barplot(y = 'SIGLADES', x = 'atraso_15', data = grouped_multivar_atraso)\n",
    "plt.title('Boxplot cantidad de atrasos según Aerolínea que opera', fontsize = 20)\n",
    "sn.despine()"
   ]
  },
  {
   "cell_type": "code",
   "execution_count": null,
   "id": "bb8cc6db-0e15-4e59-b7b0-27832e18b5da",
   "metadata": {},
   "outputs": [],
   "source": []
  },
  {
   "cell_type": "markdown",
   "id": "d9b8baab-7543-49f3-b2ec-c50ade9a8440",
   "metadata": {},
   "source": [
    "## Modelación"
   ]
  },
  {
   "cell_type": "markdown",
   "id": "a1b67ba1-6133-4a80-be9f-dc2c3dcbd5e2",
   "metadata": {},
   "source": [
    "Por tiempo voy a partir con solo 4 modelos de los cuales solo a Random Forest le ajustaré hiperparámetros, la razón detrás de esto es entregar un baseline útil en una cantidad de tiempo acotado, además de permitir tener una métrica de importancia relativa entre atributos.\n",
    "\n",
    "Con respeto a los atributos a utilizar, voy a conservar todos los generados en la sección de atributos sintéticos ya que resumen bastante bien las características del fenómeno de atraso, pero además voy a agregar los atributos de `SGILADES`, `TIPOVUELO`, `DIANOM` y `OPERA` ya que todas estas columnas tienen información relevante sobre actores o factores que pueden influenciar el atraso de un vuelo, por ejemplo, ciertas aérolineas pueden ser más propensas a atrasarse, algunas ciudades pueden tener aeropuertos más congestionados, como vimos anteriormente, ciertos días de la semana son más preferidos para viajar lo que aumenta la probabilidad de ver un atraso ese día.\n",
    "\n",
    "Claramente no tiene sentido agregar `dif_min` ya que el vector objetivo es simplemente una discretización de este, además, para cuando podamos computarlo ya vamos a haber sabido si es que el vuelo se atrasó por más de 15 min o no."
   ]
  },
  {
   "cell_type": "code",
   "execution_count": 57,
   "id": "8f7f5c33-9688-45f9-96b3-2b3b70f7eb49",
   "metadata": {},
   "outputs": [],
   "source": [
    "X = cleaned_df[['SIGLADES', 'TIPOVUELO', 'DIANOM', 'OPERA', 'temporada_alta', 'periodo_dia']]\n",
    "Y = cleaned_df[ 'atraso_15']"
   ]
  },
  {
   "cell_type": "markdown",
   "id": "7638c042-6a6e-4bc5-bda3-7bc8c6615539",
   "metadata": {},
   "source": [
    "Último chequeo de tipos de datos para asegurarme que OHE los interprete correctamente"
   ]
  },
  {
   "cell_type": "code",
   "execution_count": 58,
   "id": "82933460-4ce3-464a-a13b-e878043046c3",
   "metadata": {},
   "outputs": [
    {
     "data": {
      "text/plain": [
       "SIGLADES          object\n",
       "TIPOVUELO         object\n",
       "DIANOM            object\n",
       "OPERA             object\n",
       "temporada_alta     int64\n",
       "periodo_dia       object\n",
       "dtype: object"
      ]
     },
     "execution_count": 58,
     "metadata": {},
     "output_type": "execute_result"
    }
   ],
   "source": [
    "X.dtypes"
   ]
  },
  {
   "cell_type": "code",
   "execution_count": 59,
   "id": "3c215872-1acc-40ea-9bc9-6fed766de99c",
   "metadata": {},
   "outputs": [],
   "source": [
    "ohe = OneHotEncoder(drop = 'first').fit(X)\n",
    "X_OHE = ohe.transform(X)"
   ]
  },
  {
   "cell_type": "code",
   "execution_count": 60,
   "id": "4e8839ad-449e-4c2c-a03c-e45d466f068a",
   "metadata": {},
   "outputs": [],
   "source": [
    "x_train, x_test, y_train, y_test = train_test_split(X_OHE, Y, test_size = .33, random_state = 11235813)"
   ]
  },
  {
   "cell_type": "markdown",
   "id": "070178a1-ee61-4eb4-8481-c43eb71fb13e",
   "metadata": {},
   "source": [
    "#### Modelos a probar"
   ]
  },
  {
   "cell_type": "code",
   "execution_count": 118,
   "id": "fc69a79a-e51c-4c3a-8e16-17fd71d9f009",
   "metadata": {},
   "outputs": [],
   "source": [
    "rf = RandomForestClassifier()\n",
    "logistic_reg = LogisticRegression(solver = 'liblinear')\n",
    "nb = BernoulliNB()\n",
    "svm = SVC(kernel = 'sigmoid')\n"
   ]
  },
  {
   "cell_type": "markdown",
   "id": "6dc733d6-a03e-48db-a38d-8ee09beec2be",
   "metadata": {},
   "source": [
    "### Logistic Regression"
   ]
  },
  {
   "cell_type": "code",
   "execution_count": 119,
   "id": "9fdc3fe9-c31f-44c3-b1dc-e3c79189d735",
   "metadata": {},
   "outputs": [],
   "source": [
    "logistic_reg.fit(x_train, y_train);"
   ]
  },
  {
   "cell_type": "code",
   "execution_count": 120,
   "id": "063781e2-32fd-46cc-881f-9fd454c9f875",
   "metadata": {},
   "outputs": [],
   "source": [
    "logistic_preds = logistic_reg.predict(x_test)"
   ]
  },
  {
   "cell_type": "code",
   "execution_count": 121,
   "id": "73a25a98-b8a1-4a30-9d3f-81977ca9b18c",
   "metadata": {},
   "outputs": [
    {
     "name": "stdout",
     "output_type": "stream",
     "text": [
      "              precision    recall  f1-score   support\n",
      "\n",
      "           0       0.76      0.97      0.85     16068\n",
      "           1       0.62      0.14      0.24      5849\n",
      "\n",
      "    accuracy                           0.75     21917\n",
      "   macro avg       0.69      0.56      0.54     21917\n",
      "weighted avg       0.72      0.75      0.69     21917\n",
      "\n"
     ]
    }
   ],
   "source": [
    "print(classification_report(y_test, logistic_preds))"
   ]
  },
  {
   "cell_type": "markdown",
   "id": "5f603de8-fb94-4c75-b8b0-49ebb48321cb",
   "metadata": {},
   "source": [
    "### BernoulliNB"
   ]
  },
  {
   "cell_type": "code",
   "execution_count": 65,
   "id": "d1a2d6e4-6647-45eb-9622-74de43cb7d83",
   "metadata": {},
   "outputs": [],
   "source": [
    "nb.fit(x_train, y_train);"
   ]
  },
  {
   "cell_type": "code",
   "execution_count": 66,
   "id": "af59db39-eecf-4215-a405-73f30adc0686",
   "metadata": {},
   "outputs": [],
   "source": [
    "nb_preds = nb.predict(x_test)"
   ]
  },
  {
   "cell_type": "code",
   "execution_count": 67,
   "id": "87540b37-e270-4534-a34c-352173e76a40",
   "metadata": {},
   "outputs": [
    {
     "name": "stdout",
     "output_type": "stream",
     "text": [
      "              precision    recall  f1-score   support\n",
      "\n",
      "           0       0.76      0.95      0.85     16068\n",
      "           1       0.57      0.19      0.29      5849\n",
      "\n",
      "    accuracy                           0.75     21917\n",
      "   macro avg       0.67      0.57      0.57     21917\n",
      "weighted avg       0.71      0.75      0.70     21917\n",
      "\n"
     ]
    }
   ],
   "source": [
    "print(classification_report(y_test, nb_preds))"
   ]
  },
  {
   "cell_type": "markdown",
   "id": "ac043fac-c522-4bed-8f70-bbed14368d2d",
   "metadata": {},
   "source": [
    "### SVM"
   ]
  },
  {
   "cell_type": "code",
   "execution_count": 122,
   "id": "a4628e29-f15d-4547-9b8f-60e4045fc3b7",
   "metadata": {},
   "outputs": [],
   "source": [
    "svm.fit(x_train, y_train);"
   ]
  },
  {
   "cell_type": "code",
   "execution_count": 123,
   "id": "6ea6872f-6f6f-4858-be89-27ff7eb00fbb",
   "metadata": {},
   "outputs": [],
   "source": [
    "svm_preds = svm.predict(x_test)"
   ]
  },
  {
   "cell_type": "code",
   "execution_count": 124,
   "id": "009d8794-a56c-4c45-a103-13aded59a85b",
   "metadata": {},
   "outputs": [
    {
     "name": "stdout",
     "output_type": "stream",
     "text": [
      "              precision    recall  f1-score   support\n",
      "\n",
      "           0       0.77      0.77      0.77     16068\n",
      "           1       0.36      0.35      0.36      5849\n",
      "\n",
      "    accuracy                           0.66     21917\n",
      "   macro avg       0.56      0.56      0.56     21917\n",
      "weighted avg       0.66      0.66      0.66     21917\n",
      "\n"
     ]
    }
   ],
   "source": [
    "print(classification_report(y_test, svm_preds))"
   ]
  },
  {
   "cell_type": "markdown",
   "id": "29d9fd81-331e-40c5-b4a0-0903f84ad55c",
   "metadata": {},
   "source": [
    "### Random Forest"
   ]
  },
  {
   "cell_type": "code",
   "execution_count": 71,
   "id": "7f67a2c4-910d-4f7f-9b09-fa57a98d9251",
   "metadata": {},
   "outputs": [],
   "source": [
    "grid_rf = GridSearchCV(rf, param_grid={'max_depth': [25, 50, 100, 150],\n",
    "                                      'n_estimators': [100, 200, 300],\n",
    "                                      'min_samples_split': [10, 30, 50, 100]}, n_jobs = -1).fit(x_train, y_train)"
   ]
  },
  {
   "cell_type": "code",
   "execution_count": 72,
   "id": "25ef8281-5368-4dd8-8887-d51d53c6e3bd",
   "metadata": {},
   "outputs": [
    {
     "data": {
      "text/plain": [
       "0.7525731359791721"
      ]
     },
     "execution_count": 72,
     "metadata": {},
     "output_type": "execute_result"
    }
   ],
   "source": [
    "grid_rf.best_score_"
   ]
  },
  {
   "cell_type": "code",
   "execution_count": 73,
   "id": "a5979dc4-a4be-44d1-b8e6-d68a4328928c",
   "metadata": {},
   "outputs": [],
   "source": [
    "best_rf = grid_rf.best_estimator_"
   ]
  },
  {
   "cell_type": "code",
   "execution_count": 74,
   "id": "60d88820-10bc-4b2e-97e2-7307d892abd0",
   "metadata": {},
   "outputs": [],
   "source": [
    "rf_preds = best_rf.predict(x_test)"
   ]
  },
  {
   "cell_type": "code",
   "execution_count": 75,
   "id": "5d2e2282-ac84-44d1-8402-1f9878335d62",
   "metadata": {},
   "outputs": [
    {
     "name": "stdout",
     "output_type": "stream",
     "text": [
      "              precision    recall  f1-score   support\n",
      "\n",
      "           0       0.76      0.96      0.85     16068\n",
      "           1       0.64      0.18      0.27      5849\n",
      "\n",
      "    accuracy                           0.75     21917\n",
      "   macro avg       0.70      0.57      0.56     21917\n",
      "weighted avg       0.73      0.75      0.70     21917\n",
      "\n"
     ]
    }
   ],
   "source": [
    "print(classification_report(y_test, rf_preds))"
   ]
  },
  {
   "cell_type": "markdown",
   "id": "863d0b68-b18f-4f7c-a6e7-0b848dc9d676",
   "metadata": {},
   "source": [
    "Que Random Forest aún con un ajuste de hiperparámetros haya obtenido casi las mismas métricas que modelos con hipótesis tan distitnas (como regresión logistica y NB) me hace pensar que:\n",
    "\n",
    "- Tal parece que el desbalance de clases está afectando el desempeño de los modelos, una alternativa es usar algún remuestreo, quizás algo como SMOTE.\n",
    "- El espacio de atributos no es el más adecuado para ver una separabilidad entre las clases, quizás probar algo como MCA para proyectar los datos a un espacio continuo."
   ]
  },
  {
   "cell_type": "code",
   "execution_count": 126,
   "id": "224539fd-3f1a-4e96-ada7-5af82f1e973f",
   "metadata": {},
   "outputs": [],
   "source": [
    "from imblearn.over_sampling import SMOTE\n",
    "from sklearn.discriminant_analysis import QuadraticDiscriminantAnalysis"
   ]
  },
  {
   "cell_type": "code",
   "execution_count": 127,
   "id": "ddc80b93-19c0-4305-82d5-27c0c685fecd",
   "metadata": {},
   "outputs": [],
   "source": [
    "smote = SMOTE().fit(x_train, y_train)"
   ]
  },
  {
   "cell_type": "code",
   "execution_count": 128,
   "id": "2a1b5943-58ca-44d9-b8f8-d46538776449",
   "metadata": {},
   "outputs": [],
   "source": [
    "x_train_resampled, y_train_resampled = smote.fit_resample(x_train, y_train)"
   ]
  },
  {
   "cell_type": "code",
   "execution_count": 129,
   "id": "0120affd-9802-4910-9c19-7e4fd57e9869",
   "metadata": {},
   "outputs": [],
   "source": [
    "logistic_reg_resampled = LogisticRegression(solver = 'liblinear')\n",
    "logistic_reg_resampled.fit(x_train_resampled, y_train_resampled);"
   ]
  },
  {
   "cell_type": "code",
   "execution_count": 130,
   "id": "6d584363-babd-4144-893c-1c33ee1b7e79",
   "metadata": {},
   "outputs": [],
   "source": [
    "logistic_preds_resampled = logistic_reg_resampled.predict(x_test)"
   ]
  },
  {
   "cell_type": "code",
   "execution_count": 131,
   "id": "999164c7-b693-415e-b112-7c07fc31c7a3",
   "metadata": {},
   "outputs": [
    {
     "name": "stdout",
     "output_type": "stream",
     "text": [
      "              precision    recall  f1-score   support\n",
      "\n",
      "           0       0.83      0.66      0.73     16068\n",
      "           1       0.40      0.62      0.48      5849\n",
      "\n",
      "    accuracy                           0.65     21917\n",
      "   macro avg       0.61      0.64      0.61     21917\n",
      "weighted avg       0.71      0.65      0.67     21917\n",
      "\n"
     ]
    }
   ],
   "source": [
    "print(classification_report(y_test, logistic_preds_resampled))"
   ]
  },
  {
   "cell_type": "markdown",
   "id": "e2ba2c8f-91ce-458b-9c5e-585fb4768555",
   "metadata": {},
   "source": [
    "Hay ua considerable mejoría de las métricas de precision y recall para la clase 1.\n",
    "\n",
    "El remuestreo de SMOTE ayuda modificando la distribución a priori de las clases y a diversificar un poco las características pero aún creo que lo siguiente es aplicar alguna ´transformación hacia los atributos y cuando encuentre alguna transformación conveniente intensificar el resto del entrenamiento ajustando hiperparámetros si es necesario.\n",
    "\n",
    "Partamos con QDA:"
   ]
  },
  {
   "cell_type": "code",
   "execution_count": 132,
   "id": "fae89e02-788f-4088-8564-ead3c96504df",
   "metadata": {},
   "outputs": [
    {
     "name": "stderr",
     "output_type": "stream",
     "text": [
      "/home/ignacio/anaconda3/lib/python3.8/site-packages/sklearn/discriminant_analysis.py:878: UserWarning: Variables are collinear\n",
      "  warnings.warn(\"Variables are collinear\")\n"
     ]
    }
   ],
   "source": [
    "qda_resampled = QuadraticDiscriminantAnalysis().fit(x_train_resampled.toarray(), y_train_resampled)"
   ]
  },
  {
   "cell_type": "code",
   "execution_count": 133,
   "id": "a37bea72-49b0-4edd-9609-82048c88e58d",
   "metadata": {},
   "outputs": [],
   "source": [
    "qda_preds_resampled = qda_resampled.predict(x_test.toarray())"
   ]
  },
  {
   "cell_type": "code",
   "execution_count": 134,
   "id": "c840d2ef-77b7-4eb2-868b-eee062395071",
   "metadata": {},
   "outputs": [
    {
     "name": "stdout",
     "output_type": "stream",
     "text": [
      "              precision    recall  f1-score   support\n",
      "\n",
      "           0       0.90      0.03      0.06     16068\n",
      "           1       0.27      0.99      0.43      5849\n",
      "\n",
      "    accuracy                           0.29     21917\n",
      "   macro avg       0.59      0.51      0.24     21917\n",
      "weighted avg       0.73      0.29      0.16     21917\n",
      "\n"
     ]
    }
   ],
   "source": [
    "print(classification_report(y_test, qda_preds_resampled))"
   ]
  },
  {
   "cell_type": "markdown",
   "id": "7864aae3-facf-4a60-bbeb-4c4e580478d3",
   "metadata": {},
   "source": [
    "Muy interesante, QDA se sesgó considerablemente a la case minoritaria, sin embargo, aunque logra detectar el 95% de los vuelos que se atrasan ()recall = 0.95, la baja precisión en esa clase junto con las malas métricas de precisión y recall de la clase $0$ me dicen que en realidad el modelo no tiene muy bien especificadas las características de la clase $1$. Con respecto a la clase $0$, la alta precisión y bajo recall indican que quizás el modelo solo es capaz de identificar algunos pocos ejemplos que son marcadamente de la clase $0$ (los \"fáciles\").\n",
    "\n",
    "El comportamiento anterior me hace pensar que quizás el sobremuestreo de SMOTE modificó demasiado las matrices de covarianza de las clases y esto pudo haber producido el comportamiento anterior, solo para evaluar si este es el caso voy a re-entrenar QDA pero con los datos originales:"
   ]
  },
  {
   "cell_type": "code",
   "execution_count": 135,
   "id": "164c90f1-c389-473c-b0aa-6e8d22bd5086",
   "metadata": {},
   "outputs": [
    {
     "name": "stderr",
     "output_type": "stream",
     "text": [
      "/home/ignacio/anaconda3/lib/python3.8/site-packages/sklearn/discriminant_analysis.py:878: UserWarning: Variables are collinear\n",
      "  warnings.warn(\"Variables are collinear\")\n"
     ]
    }
   ],
   "source": [
    "qda = QuadraticDiscriminantAnalysis().fit(x_train.toarray(), y_train)"
   ]
  },
  {
   "cell_type": "code",
   "execution_count": 136,
   "id": "9393f6b5-399c-4286-b40c-124a2495740d",
   "metadata": {},
   "outputs": [],
   "source": [
    "qda_preds = qda.predict(x_test.toarray())"
   ]
  },
  {
   "cell_type": "code",
   "execution_count": 137,
   "id": "48dd0abd-2a3a-46c4-bc80-4b907e776bdd",
   "metadata": {},
   "outputs": [
    {
     "name": "stdout",
     "output_type": "stream",
     "text": [
      "              precision    recall  f1-score   support\n",
      "\n",
      "           0       0.89      0.03      0.06     16068\n",
      "           1       0.27      0.99      0.43      5849\n",
      "\n",
      "    accuracy                           0.29     21917\n",
      "   macro avg       0.58      0.51      0.24     21917\n",
      "weighted avg       0.73      0.29      0.15     21917\n",
      "\n"
     ]
    }
   ],
   "source": [
    "print(classification_report(y_test, qda_preds))"
   ]
  },
  {
   "cell_type": "markdown",
   "id": "d7ea86c6-db26-4949-9a3f-fea89d31bf19",
   "metadata": {},
   "source": [
    "Mismo comportamiento, no era lo que pensaba, pero eso quiere decir que entonces no debiese haber problemas con la versión remuestreada.\n",
    "\n",
    "Podria probar usando el reductor de dimensionalidad de QDA para transformar los datos y luego alimentarlos a alguno de los algoritmos que ya probé, sin embargo, creo más interesante por tiempo probar primero la proyección que logro con MCA, voy a comenzar con 50 componentes.\n"
   ]
  },
  {
   "cell_type": "code",
   "execution_count": 138,
   "id": "c08b34e0-7fcf-4857-b9ff-1316f7e1f83a",
   "metadata": {},
   "outputs": [],
   "source": [
    "from prince import MCA"
   ]
  },
  {
   "cell_type": "code",
   "execution_count": 139,
   "id": "dab10f6e-7d1e-40ad-9fd9-3fc7f7acd069",
   "metadata": {},
   "outputs": [],
   "source": [
    "mca = MCA(n_components = 50)\n",
    "\n",
    "X_mca = mca.fit_transform(X_OHE.toarray())"
   ]
  },
  {
   "cell_type": "code",
   "execution_count": 140,
   "id": "639fd449-c11b-4135-817e-f41854e484a4",
   "metadata": {},
   "outputs": [],
   "source": [
    "x_train_mca, x_test_mca, y_train_mca, y_test_mca = train_test_split(\n",
    "                                        X_mca, Y, test_size = .33, random_state = 11235813)"
   ]
  },
  {
   "cell_type": "markdown",
   "id": "e7704d2e-b4ff-495a-918a-5dc7596aac87",
   "metadata": {},
   "source": [
    "Probemos denuevo regresión logística para ver si ayudó en algo"
   ]
  },
  {
   "cell_type": "code",
   "execution_count": 145,
   "id": "ed52182e-df25-410b-abd8-d9ef5cf36894",
   "metadata": {},
   "outputs": [],
   "source": [
    "logistic_reg_mca = LogisticRegression(solver = 'liblinear').fit(x_train_mca, y_train_mca)"
   ]
  },
  {
   "cell_type": "code",
   "execution_count": 146,
   "id": "9c461812-6a65-40fa-95d0-8d8da9da63bd",
   "metadata": {},
   "outputs": [],
   "source": [
    "logistic_reg_mca_preds = logistic_reg_tsne.predict(x_test_mca)"
   ]
  },
  {
   "cell_type": "code",
   "execution_count": 147,
   "id": "e0a4438f-1a1f-42ad-97e2-b3369dad9d87",
   "metadata": {},
   "outputs": [
    {
     "name": "stdout",
     "output_type": "stream",
     "text": [
      "              precision    recall  f1-score   support\n",
      "\n",
      "           0       0.75      0.97      0.85     16068\n",
      "           1       0.64      0.12      0.21      5849\n",
      "\n",
      "    accuracy                           0.75     21917\n",
      "   macro avg       0.70      0.55      0.53     21917\n",
      "weighted avg       0.72      0.75      0.68     21917\n",
      "\n"
     ]
    }
   ],
   "source": [
    "print(classification_report(y_test_mca, logistic_reg_mca_preds))"
   ]
  },
  {
   "cell_type": "markdown",
   "id": "da26990c-b36c-4fd0-bfaf-69e08fe82862",
   "metadata": {},
   "source": [
    "## Próximos pasos y evaluación de mejor modelo\n",
    "\n",
    "Hasta ahora el mejor modelo es Regresión logística sobre los datos remuestreados, aunque tiene un menor accuracy que los demás, tiene un mucho mayor recall para la clase $1$ (atraso) que los demás, definitivamente lo que me interesa es lograr un modelo que tenga buen recall y precisión para la clase $1$, es decir, un modelo que pueda detectar correctamente la mayor parte de los atrasos (alto recall) y, además, tenga bastante seguridad en la predicción de un atraso (precision alta) de forma de poder tener certeza en producción de que un vuelo se va a atrasar cuando el modelo así lo diga. La precisión de este modelo de regresión logistica es de solo 0.4, eso quiere decir que no está muy seguro de las características de todos los elementos de la clase $1$, su recall es bajo, con un recall de 0.0.62 al modelo se le están pasndo el 58% de los vuelos atrasados por alto, eso es mucho. Me interesa tener un desempeño decente con Random Forest porque es un modelo del cual se pueden extraer la importancia relativa de los atributos, de forma similar con Regresión Logística viendo el cambio en las log-ventajas de aparición de la clase $1$ en los coeficientes estimados, además de tener la posibilidad de ver pvalores asociados a la presencia de atributos en el modelo si se desea.\n",
    "\n",
    "Los próximos pasos comprenderían:\n",
    "1. Evaluar la posibilidad de enriquecer la matriz de atributos con nuevas dimensiones.\n",
    "2. Terminar de explorar la usabilidad de las transformaciones y proyecciones sobre los atributos.\n",
    "3. Ajuste de hiperparámetros y adición de otros modelos como XGBoost. "
   ]
  },
  {
   "cell_type": "code",
   "execution_count": null,
   "id": "a7b1cd41-5ca3-4dc3-8fd3-a4c304443a8e",
   "metadata": {},
   "outputs": [],
   "source": []
  }
 ],
 "metadata": {
  "kernelspec": {
   "display_name": "Python 3",
   "language": "python",
   "name": "python3"
  },
  "language_info": {
   "codemirror_mode": {
    "name": "ipython",
    "version": 3
   },
   "file_extension": ".py",
   "mimetype": "text/x-python",
   "name": "python",
   "nbconvert_exporter": "python",
   "pygments_lexer": "ipython3",
   "version": "3.8.11"
  }
 },
 "nbformat": 4,
 "nbformat_minor": 5
}
